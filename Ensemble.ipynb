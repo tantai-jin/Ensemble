{
  "nbformat": 4,
  "nbformat_minor": 0,
  "metadata": {
    "colab": {
      "provenance": [],
      "authorship_tag": "ABX9TyMY+d/Owybk+wxVwvq2uWmB",
      "include_colab_link": true
    },
    "kernelspec": {
      "name": "python3",
      "display_name": "Python 3"
    },
    "language_info": {
      "name": "python"
    },
    "widgets": {
      "application/vnd.jupyter.widget-state+json": {
        "8cfaff31837c4a5fa6eedc6af82ab64f": {
          "model_module": "@jupyter-widgets/controls",
          "model_name": "HBoxModel",
          "model_module_version": "1.5.0",
          "state": {
            "_dom_classes": [],
            "_model_module": "@jupyter-widgets/controls",
            "_model_module_version": "1.5.0",
            "_model_name": "HBoxModel",
            "_view_count": null,
            "_view_module": "@jupyter-widgets/controls",
            "_view_module_version": "1.5.0",
            "_view_name": "HBoxView",
            "box_style": "",
            "children": [
              "IPY_MODEL_3056dd34f9be4a60b71f9ad7d9e0ae65",
              "IPY_MODEL_a5455fbc2d874f329295be62455d8406",
              "IPY_MODEL_9e9cf8a61989420ab534c7668388dd05"
            ],
            "layout": "IPY_MODEL_259f633f12a845829793b1afd830ba6f"
          }
        },
        "3056dd34f9be4a60b71f9ad7d9e0ae65": {
          "model_module": "@jupyter-widgets/controls",
          "model_name": "HTMLModel",
          "model_module_version": "1.5.0",
          "state": {
            "_dom_classes": [],
            "_model_module": "@jupyter-widgets/controls",
            "_model_module_version": "1.5.0",
            "_model_name": "HTMLModel",
            "_view_count": null,
            "_view_module": "@jupyter-widgets/controls",
            "_view_module_version": "1.5.0",
            "_view_name": "HTMLView",
            "description": "",
            "description_tooltip": null,
            "layout": "IPY_MODEL_ef93f4543a4d43cebf1a15b248301121",
            "placeholder": "​",
            "style": "IPY_MODEL_5134a8741828423ab585f00008357486",
            "value": "config.json: 100%"
          }
        },
        "a5455fbc2d874f329295be62455d8406": {
          "model_module": "@jupyter-widgets/controls",
          "model_name": "FloatProgressModel",
          "model_module_version": "1.5.0",
          "state": {
            "_dom_classes": [],
            "_model_module": "@jupyter-widgets/controls",
            "_model_module_version": "1.5.0",
            "_model_name": "FloatProgressModel",
            "_view_count": null,
            "_view_module": "@jupyter-widgets/controls",
            "_view_module_version": "1.5.0",
            "_view_name": "ProgressView",
            "bar_style": "success",
            "description": "",
            "description_tooltip": null,
            "layout": "IPY_MODEL_d9a4435788e74062bba3f1175e7fd37d",
            "max": 724,
            "min": 0,
            "orientation": "horizontal",
            "style": "IPY_MODEL_33eca8909c204fad8ec47f69c6e462ff",
            "value": 724
          }
        },
        "9e9cf8a61989420ab534c7668388dd05": {
          "model_module": "@jupyter-widgets/controls",
          "model_name": "HTMLModel",
          "model_module_version": "1.5.0",
          "state": {
            "_dom_classes": [],
            "_model_module": "@jupyter-widgets/controls",
            "_model_module_version": "1.5.0",
            "_model_name": "HTMLModel",
            "_view_count": null,
            "_view_module": "@jupyter-widgets/controls",
            "_view_module_version": "1.5.0",
            "_view_name": "HTMLView",
            "description": "",
            "description_tooltip": null,
            "layout": "IPY_MODEL_d9a88f874ed142fd8e5b7d5feec53bd1",
            "placeholder": "​",
            "style": "IPY_MODEL_ec1d893413fa479f9c5886f1dd7f7d3a",
            "value": " 724/724 [00:00&lt;00:00, 52.8kB/s]"
          }
        },
        "259f633f12a845829793b1afd830ba6f": {
          "model_module": "@jupyter-widgets/base",
          "model_name": "LayoutModel",
          "model_module_version": "1.2.0",
          "state": {
            "_model_module": "@jupyter-widgets/base",
            "_model_module_version": "1.2.0",
            "_model_name": "LayoutModel",
            "_view_count": null,
            "_view_module": "@jupyter-widgets/base",
            "_view_module_version": "1.2.0",
            "_view_name": "LayoutView",
            "align_content": null,
            "align_items": null,
            "align_self": null,
            "border": null,
            "bottom": null,
            "display": null,
            "flex": null,
            "flex_flow": null,
            "grid_area": null,
            "grid_auto_columns": null,
            "grid_auto_flow": null,
            "grid_auto_rows": null,
            "grid_column": null,
            "grid_gap": null,
            "grid_row": null,
            "grid_template_areas": null,
            "grid_template_columns": null,
            "grid_template_rows": null,
            "height": null,
            "justify_content": null,
            "justify_items": null,
            "left": null,
            "margin": null,
            "max_height": null,
            "max_width": null,
            "min_height": null,
            "min_width": null,
            "object_fit": null,
            "object_position": null,
            "order": null,
            "overflow": null,
            "overflow_x": null,
            "overflow_y": null,
            "padding": null,
            "right": null,
            "top": null,
            "visibility": null,
            "width": null
          }
        },
        "ef93f4543a4d43cebf1a15b248301121": {
          "model_module": "@jupyter-widgets/base",
          "model_name": "LayoutModel",
          "model_module_version": "1.2.0",
          "state": {
            "_model_module": "@jupyter-widgets/base",
            "_model_module_version": "1.2.0",
            "_model_name": "LayoutModel",
            "_view_count": null,
            "_view_module": "@jupyter-widgets/base",
            "_view_module_version": "1.2.0",
            "_view_name": "LayoutView",
            "align_content": null,
            "align_items": null,
            "align_self": null,
            "border": null,
            "bottom": null,
            "display": null,
            "flex": null,
            "flex_flow": null,
            "grid_area": null,
            "grid_auto_columns": null,
            "grid_auto_flow": null,
            "grid_auto_rows": null,
            "grid_column": null,
            "grid_gap": null,
            "grid_row": null,
            "grid_template_areas": null,
            "grid_template_columns": null,
            "grid_template_rows": null,
            "height": null,
            "justify_content": null,
            "justify_items": null,
            "left": null,
            "margin": null,
            "max_height": null,
            "max_width": null,
            "min_height": null,
            "min_width": null,
            "object_fit": null,
            "object_position": null,
            "order": null,
            "overflow": null,
            "overflow_x": null,
            "overflow_y": null,
            "padding": null,
            "right": null,
            "top": null,
            "visibility": null,
            "width": null
          }
        },
        "5134a8741828423ab585f00008357486": {
          "model_module": "@jupyter-widgets/controls",
          "model_name": "DescriptionStyleModel",
          "model_module_version": "1.5.0",
          "state": {
            "_model_module": "@jupyter-widgets/controls",
            "_model_module_version": "1.5.0",
            "_model_name": "DescriptionStyleModel",
            "_view_count": null,
            "_view_module": "@jupyter-widgets/base",
            "_view_module_version": "1.2.0",
            "_view_name": "StyleView",
            "description_width": ""
          }
        },
        "d9a4435788e74062bba3f1175e7fd37d": {
          "model_module": "@jupyter-widgets/base",
          "model_name": "LayoutModel",
          "model_module_version": "1.2.0",
          "state": {
            "_model_module": "@jupyter-widgets/base",
            "_model_module_version": "1.2.0",
            "_model_name": "LayoutModel",
            "_view_count": null,
            "_view_module": "@jupyter-widgets/base",
            "_view_module_version": "1.2.0",
            "_view_name": "LayoutView",
            "align_content": null,
            "align_items": null,
            "align_self": null,
            "border": null,
            "bottom": null,
            "display": null,
            "flex": null,
            "flex_flow": null,
            "grid_area": null,
            "grid_auto_columns": null,
            "grid_auto_flow": null,
            "grid_auto_rows": null,
            "grid_column": null,
            "grid_gap": null,
            "grid_row": null,
            "grid_template_areas": null,
            "grid_template_columns": null,
            "grid_template_rows": null,
            "height": null,
            "justify_content": null,
            "justify_items": null,
            "left": null,
            "margin": null,
            "max_height": null,
            "max_width": null,
            "min_height": null,
            "min_width": null,
            "object_fit": null,
            "object_position": null,
            "order": null,
            "overflow": null,
            "overflow_x": null,
            "overflow_y": null,
            "padding": null,
            "right": null,
            "top": null,
            "visibility": null,
            "width": null
          }
        },
        "33eca8909c204fad8ec47f69c6e462ff": {
          "model_module": "@jupyter-widgets/controls",
          "model_name": "ProgressStyleModel",
          "model_module_version": "1.5.0",
          "state": {
            "_model_module": "@jupyter-widgets/controls",
            "_model_module_version": "1.5.0",
            "_model_name": "ProgressStyleModel",
            "_view_count": null,
            "_view_module": "@jupyter-widgets/base",
            "_view_module_version": "1.2.0",
            "_view_name": "StyleView",
            "bar_color": null,
            "description_width": ""
          }
        },
        "d9a88f874ed142fd8e5b7d5feec53bd1": {
          "model_module": "@jupyter-widgets/base",
          "model_name": "LayoutModel",
          "model_module_version": "1.2.0",
          "state": {
            "_model_module": "@jupyter-widgets/base",
            "_model_module_version": "1.2.0",
            "_model_name": "LayoutModel",
            "_view_count": null,
            "_view_module": "@jupyter-widgets/base",
            "_view_module_version": "1.2.0",
            "_view_name": "LayoutView",
            "align_content": null,
            "align_items": null,
            "align_self": null,
            "border": null,
            "bottom": null,
            "display": null,
            "flex": null,
            "flex_flow": null,
            "grid_area": null,
            "grid_auto_columns": null,
            "grid_auto_flow": null,
            "grid_auto_rows": null,
            "grid_column": null,
            "grid_gap": null,
            "grid_row": null,
            "grid_template_areas": null,
            "grid_template_columns": null,
            "grid_template_rows": null,
            "height": null,
            "justify_content": null,
            "justify_items": null,
            "left": null,
            "margin": null,
            "max_height": null,
            "max_width": null,
            "min_height": null,
            "min_width": null,
            "object_fit": null,
            "object_position": null,
            "order": null,
            "overflow": null,
            "overflow_x": null,
            "overflow_y": null,
            "padding": null,
            "right": null,
            "top": null,
            "visibility": null,
            "width": null
          }
        },
        "ec1d893413fa479f9c5886f1dd7f7d3a": {
          "model_module": "@jupyter-widgets/controls",
          "model_name": "DescriptionStyleModel",
          "model_module_version": "1.5.0",
          "state": {
            "_model_module": "@jupyter-widgets/controls",
            "_model_module_version": "1.5.0",
            "_model_name": "DescriptionStyleModel",
            "_view_count": null,
            "_view_module": "@jupyter-widgets/base",
            "_view_module_version": "1.2.0",
            "_view_name": "StyleView",
            "description_width": ""
          }
        },
        "463d4aa4ee1b4784abee96710f22067e": {
          "model_module": "@jupyter-widgets/controls",
          "model_name": "HBoxModel",
          "model_module_version": "1.5.0",
          "state": {
            "_dom_classes": [],
            "_model_module": "@jupyter-widgets/controls",
            "_model_module_version": "1.5.0",
            "_model_name": "HBoxModel",
            "_view_count": null,
            "_view_module": "@jupyter-widgets/controls",
            "_view_module_version": "1.5.0",
            "_view_name": "HBoxView",
            "box_style": "",
            "children": [
              "IPY_MODEL_46f7a4d50dfe445288f4744957e84cf5",
              "IPY_MODEL_b590e94f0af6414ebf8e9988dfe997b0",
              "IPY_MODEL_6bb7cee9ead94937b2c1ad3663d19d54"
            ],
            "layout": "IPY_MODEL_3837a2fd5c4540c49072af92d88df10e"
          }
        },
        "46f7a4d50dfe445288f4744957e84cf5": {
          "model_module": "@jupyter-widgets/controls",
          "model_name": "HTMLModel",
          "model_module_version": "1.5.0",
          "state": {
            "_dom_classes": [],
            "_model_module": "@jupyter-widgets/controls",
            "_model_module_version": "1.5.0",
            "_model_name": "HTMLModel",
            "_view_count": null,
            "_view_module": "@jupyter-widgets/controls",
            "_view_module_version": "1.5.0",
            "_view_name": "HTMLView",
            "description": "",
            "description_tooltip": null,
            "layout": "IPY_MODEL_ddde62001e904d77af13e96e418c9aca",
            "placeholder": "​",
            "style": "IPY_MODEL_d5dce08f18724194a4bf9977dd0493b9",
            "value": "model.safetensors: 100%"
          }
        },
        "b590e94f0af6414ebf8e9988dfe997b0": {
          "model_module": "@jupyter-widgets/controls",
          "model_name": "FloatProgressModel",
          "model_module_version": "1.5.0",
          "state": {
            "_dom_classes": [],
            "_model_module": "@jupyter-widgets/controls",
            "_model_module_version": "1.5.0",
            "_model_name": "FloatProgressModel",
            "_view_count": null,
            "_view_module": "@jupyter-widgets/controls",
            "_view_module_version": "1.5.0",
            "_view_name": "ProgressView",
            "bar_style": "success",
            "description": "",
            "description_tooltip": null,
            "layout": "IPY_MODEL_3debaad98684472a89cef35fac95e3ab",
            "max": 343223968,
            "min": 0,
            "orientation": "horizontal",
            "style": "IPY_MODEL_2fa06f2051914d1c97c9f877dbf90dc0",
            "value": 343223968
          }
        },
        "6bb7cee9ead94937b2c1ad3663d19d54": {
          "model_module": "@jupyter-widgets/controls",
          "model_name": "HTMLModel",
          "model_module_version": "1.5.0",
          "state": {
            "_dom_classes": [],
            "_model_module": "@jupyter-widgets/controls",
            "_model_module_version": "1.5.0",
            "_model_name": "HTMLModel",
            "_view_count": null,
            "_view_module": "@jupyter-widgets/controls",
            "_view_module_version": "1.5.0",
            "_view_name": "HTMLView",
            "description": "",
            "description_tooltip": null,
            "layout": "IPY_MODEL_655d5c1a45a3477192e11b5af2d8efb6",
            "placeholder": "​",
            "style": "IPY_MODEL_abfbb2ce574344339b7825350164c0d5",
            "value": " 343M/343M [00:04&lt;00:00, 81.1MB/s]"
          }
        },
        "3837a2fd5c4540c49072af92d88df10e": {
          "model_module": "@jupyter-widgets/base",
          "model_name": "LayoutModel",
          "model_module_version": "1.2.0",
          "state": {
            "_model_module": "@jupyter-widgets/base",
            "_model_module_version": "1.2.0",
            "_model_name": "LayoutModel",
            "_view_count": null,
            "_view_module": "@jupyter-widgets/base",
            "_view_module_version": "1.2.0",
            "_view_name": "LayoutView",
            "align_content": null,
            "align_items": null,
            "align_self": null,
            "border": null,
            "bottom": null,
            "display": null,
            "flex": null,
            "flex_flow": null,
            "grid_area": null,
            "grid_auto_columns": null,
            "grid_auto_flow": null,
            "grid_auto_rows": null,
            "grid_column": null,
            "grid_gap": null,
            "grid_row": null,
            "grid_template_areas": null,
            "grid_template_columns": null,
            "grid_template_rows": null,
            "height": null,
            "justify_content": null,
            "justify_items": null,
            "left": null,
            "margin": null,
            "max_height": null,
            "max_width": null,
            "min_height": null,
            "min_width": null,
            "object_fit": null,
            "object_position": null,
            "order": null,
            "overflow": null,
            "overflow_x": null,
            "overflow_y": null,
            "padding": null,
            "right": null,
            "top": null,
            "visibility": null,
            "width": null
          }
        },
        "ddde62001e904d77af13e96e418c9aca": {
          "model_module": "@jupyter-widgets/base",
          "model_name": "LayoutModel",
          "model_module_version": "1.2.0",
          "state": {
            "_model_module": "@jupyter-widgets/base",
            "_model_module_version": "1.2.0",
            "_model_name": "LayoutModel",
            "_view_count": null,
            "_view_module": "@jupyter-widgets/base",
            "_view_module_version": "1.2.0",
            "_view_name": "LayoutView",
            "align_content": null,
            "align_items": null,
            "align_self": null,
            "border": null,
            "bottom": null,
            "display": null,
            "flex": null,
            "flex_flow": null,
            "grid_area": null,
            "grid_auto_columns": null,
            "grid_auto_flow": null,
            "grid_auto_rows": null,
            "grid_column": null,
            "grid_gap": null,
            "grid_row": null,
            "grid_template_areas": null,
            "grid_template_columns": null,
            "grid_template_rows": null,
            "height": null,
            "justify_content": null,
            "justify_items": null,
            "left": null,
            "margin": null,
            "max_height": null,
            "max_width": null,
            "min_height": null,
            "min_width": null,
            "object_fit": null,
            "object_position": null,
            "order": null,
            "overflow": null,
            "overflow_x": null,
            "overflow_y": null,
            "padding": null,
            "right": null,
            "top": null,
            "visibility": null,
            "width": null
          }
        },
        "d5dce08f18724194a4bf9977dd0493b9": {
          "model_module": "@jupyter-widgets/controls",
          "model_name": "DescriptionStyleModel",
          "model_module_version": "1.5.0",
          "state": {
            "_model_module": "@jupyter-widgets/controls",
            "_model_module_version": "1.5.0",
            "_model_name": "DescriptionStyleModel",
            "_view_count": null,
            "_view_module": "@jupyter-widgets/base",
            "_view_module_version": "1.2.0",
            "_view_name": "StyleView",
            "description_width": ""
          }
        },
        "3debaad98684472a89cef35fac95e3ab": {
          "model_module": "@jupyter-widgets/base",
          "model_name": "LayoutModel",
          "model_module_version": "1.2.0",
          "state": {
            "_model_module": "@jupyter-widgets/base",
            "_model_module_version": "1.2.0",
            "_model_name": "LayoutModel",
            "_view_count": null,
            "_view_module": "@jupyter-widgets/base",
            "_view_module_version": "1.2.0",
            "_view_name": "LayoutView",
            "align_content": null,
            "align_items": null,
            "align_self": null,
            "border": null,
            "bottom": null,
            "display": null,
            "flex": null,
            "flex_flow": null,
            "grid_area": null,
            "grid_auto_columns": null,
            "grid_auto_flow": null,
            "grid_auto_rows": null,
            "grid_column": null,
            "grid_gap": null,
            "grid_row": null,
            "grid_template_areas": null,
            "grid_template_columns": null,
            "grid_template_rows": null,
            "height": null,
            "justify_content": null,
            "justify_items": null,
            "left": null,
            "margin": null,
            "max_height": null,
            "max_width": null,
            "min_height": null,
            "min_width": null,
            "object_fit": null,
            "object_position": null,
            "order": null,
            "overflow": null,
            "overflow_x": null,
            "overflow_y": null,
            "padding": null,
            "right": null,
            "top": null,
            "visibility": null,
            "width": null
          }
        },
        "2fa06f2051914d1c97c9f877dbf90dc0": {
          "model_module": "@jupyter-widgets/controls",
          "model_name": "ProgressStyleModel",
          "model_module_version": "1.5.0",
          "state": {
            "_model_module": "@jupyter-widgets/controls",
            "_model_module_version": "1.5.0",
            "_model_name": "ProgressStyleModel",
            "_view_count": null,
            "_view_module": "@jupyter-widgets/base",
            "_view_module_version": "1.2.0",
            "_view_name": "StyleView",
            "bar_color": null,
            "description_width": ""
          }
        },
        "655d5c1a45a3477192e11b5af2d8efb6": {
          "model_module": "@jupyter-widgets/base",
          "model_name": "LayoutModel",
          "model_module_version": "1.2.0",
          "state": {
            "_model_module": "@jupyter-widgets/base",
            "_model_module_version": "1.2.0",
            "_model_name": "LayoutModel",
            "_view_count": null,
            "_view_module": "@jupyter-widgets/base",
            "_view_module_version": "1.2.0",
            "_view_name": "LayoutView",
            "align_content": null,
            "align_items": null,
            "align_self": null,
            "border": null,
            "bottom": null,
            "display": null,
            "flex": null,
            "flex_flow": null,
            "grid_area": null,
            "grid_auto_columns": null,
            "grid_auto_flow": null,
            "grid_auto_rows": null,
            "grid_column": null,
            "grid_gap": null,
            "grid_row": null,
            "grid_template_areas": null,
            "grid_template_columns": null,
            "grid_template_rows": null,
            "height": null,
            "justify_content": null,
            "justify_items": null,
            "left": null,
            "margin": null,
            "max_height": null,
            "max_width": null,
            "min_height": null,
            "min_width": null,
            "object_fit": null,
            "object_position": null,
            "order": null,
            "overflow": null,
            "overflow_x": null,
            "overflow_y": null,
            "padding": null,
            "right": null,
            "top": null,
            "visibility": null,
            "width": null
          }
        },
        "abfbb2ce574344339b7825350164c0d5": {
          "model_module": "@jupyter-widgets/controls",
          "model_name": "DescriptionStyleModel",
          "model_module_version": "1.5.0",
          "state": {
            "_model_module": "@jupyter-widgets/controls",
            "_model_module_version": "1.5.0",
            "_model_name": "DescriptionStyleModel",
            "_view_count": null,
            "_view_module": "@jupyter-widgets/base",
            "_view_module_version": "1.2.0",
            "_view_name": "StyleView",
            "description_width": ""
          }
        },
        "ad7034a71d8f4a16b91dfa41a3875397": {
          "model_module": "@jupyter-widgets/controls",
          "model_name": "HBoxModel",
          "model_module_version": "1.5.0",
          "state": {
            "_dom_classes": [],
            "_model_module": "@jupyter-widgets/controls",
            "_model_module_version": "1.5.0",
            "_model_name": "HBoxModel",
            "_view_count": null,
            "_view_module": "@jupyter-widgets/controls",
            "_view_module_version": "1.5.0",
            "_view_name": "HBoxView",
            "box_style": "",
            "children": [
              "IPY_MODEL_b07ca74a2f344d2a9ab744c8b7249cd3",
              "IPY_MODEL_a49dd509ea6444e69e2773fe25eaad8b",
              "IPY_MODEL_da74cc4992934c4fab6386d126f80ce3"
            ],
            "layout": "IPY_MODEL_a4bfe24d8d00480caf754560c7b7d4cb"
          }
        },
        "b07ca74a2f344d2a9ab744c8b7249cd3": {
          "model_module": "@jupyter-widgets/controls",
          "model_name": "HTMLModel",
          "model_module_version": "1.5.0",
          "state": {
            "_dom_classes": [],
            "_model_module": "@jupyter-widgets/controls",
            "_model_module_version": "1.5.0",
            "_model_name": "HTMLModel",
            "_view_count": null,
            "_view_module": "@jupyter-widgets/controls",
            "_view_module_version": "1.5.0",
            "_view_name": "HTMLView",
            "description": "",
            "description_tooltip": null,
            "layout": "IPY_MODEL_927b8056bd9e48d9ab50b15f9fa48752",
            "placeholder": "​",
            "style": "IPY_MODEL_1e29eba840b4400d8012c2956cbd6f89",
            "value": "preprocessor_config.json: 100%"
          }
        },
        "a49dd509ea6444e69e2773fe25eaad8b": {
          "model_module": "@jupyter-widgets/controls",
          "model_name": "FloatProgressModel",
          "model_module_version": "1.5.0",
          "state": {
            "_dom_classes": [],
            "_model_module": "@jupyter-widgets/controls",
            "_model_module_version": "1.5.0",
            "_model_name": "FloatProgressModel",
            "_view_count": null,
            "_view_module": "@jupyter-widgets/controls",
            "_view_module_version": "1.5.0",
            "_view_name": "ProgressView",
            "bar_style": "success",
            "description": "",
            "description_tooltip": null,
            "layout": "IPY_MODEL_c12df88bf0a24a70814944738634ad4e",
            "max": 351,
            "min": 0,
            "orientation": "horizontal",
            "style": "IPY_MODEL_6114ac49bfc44a50836e6679d1feb135",
            "value": 351
          }
        },
        "da74cc4992934c4fab6386d126f80ce3": {
          "model_module": "@jupyter-widgets/controls",
          "model_name": "HTMLModel",
          "model_module_version": "1.5.0",
          "state": {
            "_dom_classes": [],
            "_model_module": "@jupyter-widgets/controls",
            "_model_module_version": "1.5.0",
            "_model_name": "HTMLModel",
            "_view_count": null,
            "_view_module": "@jupyter-widgets/controls",
            "_view_module_version": "1.5.0",
            "_view_name": "HTMLView",
            "description": "",
            "description_tooltip": null,
            "layout": "IPY_MODEL_8a9a4932118844438a8d327ddc4fa984",
            "placeholder": "​",
            "style": "IPY_MODEL_e3ebf33764634dcfa4fa913038f31f70",
            "value": " 351/351 [00:00&lt;00:00, 7.68kB/s]"
          }
        },
        "a4bfe24d8d00480caf754560c7b7d4cb": {
          "model_module": "@jupyter-widgets/base",
          "model_name": "LayoutModel",
          "model_module_version": "1.2.0",
          "state": {
            "_model_module": "@jupyter-widgets/base",
            "_model_module_version": "1.2.0",
            "_model_name": "LayoutModel",
            "_view_count": null,
            "_view_module": "@jupyter-widgets/base",
            "_view_module_version": "1.2.0",
            "_view_name": "LayoutView",
            "align_content": null,
            "align_items": null,
            "align_self": null,
            "border": null,
            "bottom": null,
            "display": null,
            "flex": null,
            "flex_flow": null,
            "grid_area": null,
            "grid_auto_columns": null,
            "grid_auto_flow": null,
            "grid_auto_rows": null,
            "grid_column": null,
            "grid_gap": null,
            "grid_row": null,
            "grid_template_areas": null,
            "grid_template_columns": null,
            "grid_template_rows": null,
            "height": null,
            "justify_content": null,
            "justify_items": null,
            "left": null,
            "margin": null,
            "max_height": null,
            "max_width": null,
            "min_height": null,
            "min_width": null,
            "object_fit": null,
            "object_position": null,
            "order": null,
            "overflow": null,
            "overflow_x": null,
            "overflow_y": null,
            "padding": null,
            "right": null,
            "top": null,
            "visibility": null,
            "width": null
          }
        },
        "927b8056bd9e48d9ab50b15f9fa48752": {
          "model_module": "@jupyter-widgets/base",
          "model_name": "LayoutModel",
          "model_module_version": "1.2.0",
          "state": {
            "_model_module": "@jupyter-widgets/base",
            "_model_module_version": "1.2.0",
            "_model_name": "LayoutModel",
            "_view_count": null,
            "_view_module": "@jupyter-widgets/base",
            "_view_module_version": "1.2.0",
            "_view_name": "LayoutView",
            "align_content": null,
            "align_items": null,
            "align_self": null,
            "border": null,
            "bottom": null,
            "display": null,
            "flex": null,
            "flex_flow": null,
            "grid_area": null,
            "grid_auto_columns": null,
            "grid_auto_flow": null,
            "grid_auto_rows": null,
            "grid_column": null,
            "grid_gap": null,
            "grid_row": null,
            "grid_template_areas": null,
            "grid_template_columns": null,
            "grid_template_rows": null,
            "height": null,
            "justify_content": null,
            "justify_items": null,
            "left": null,
            "margin": null,
            "max_height": null,
            "max_width": null,
            "min_height": null,
            "min_width": null,
            "object_fit": null,
            "object_position": null,
            "order": null,
            "overflow": null,
            "overflow_x": null,
            "overflow_y": null,
            "padding": null,
            "right": null,
            "top": null,
            "visibility": null,
            "width": null
          }
        },
        "1e29eba840b4400d8012c2956cbd6f89": {
          "model_module": "@jupyter-widgets/controls",
          "model_name": "DescriptionStyleModel",
          "model_module_version": "1.5.0",
          "state": {
            "_model_module": "@jupyter-widgets/controls",
            "_model_module_version": "1.5.0",
            "_model_name": "DescriptionStyleModel",
            "_view_count": null,
            "_view_module": "@jupyter-widgets/base",
            "_view_module_version": "1.2.0",
            "_view_name": "StyleView",
            "description_width": ""
          }
        },
        "c12df88bf0a24a70814944738634ad4e": {
          "model_module": "@jupyter-widgets/base",
          "model_name": "LayoutModel",
          "model_module_version": "1.2.0",
          "state": {
            "_model_module": "@jupyter-widgets/base",
            "_model_module_version": "1.2.0",
            "_model_name": "LayoutModel",
            "_view_count": null,
            "_view_module": "@jupyter-widgets/base",
            "_view_module_version": "1.2.0",
            "_view_name": "LayoutView",
            "align_content": null,
            "align_items": null,
            "align_self": null,
            "border": null,
            "bottom": null,
            "display": null,
            "flex": null,
            "flex_flow": null,
            "grid_area": null,
            "grid_auto_columns": null,
            "grid_auto_flow": null,
            "grid_auto_rows": null,
            "grid_column": null,
            "grid_gap": null,
            "grid_row": null,
            "grid_template_areas": null,
            "grid_template_columns": null,
            "grid_template_rows": null,
            "height": null,
            "justify_content": null,
            "justify_items": null,
            "left": null,
            "margin": null,
            "max_height": null,
            "max_width": null,
            "min_height": null,
            "min_width": null,
            "object_fit": null,
            "object_position": null,
            "order": null,
            "overflow": null,
            "overflow_x": null,
            "overflow_y": null,
            "padding": null,
            "right": null,
            "top": null,
            "visibility": null,
            "width": null
          }
        },
        "6114ac49bfc44a50836e6679d1feb135": {
          "model_module": "@jupyter-widgets/controls",
          "model_name": "ProgressStyleModel",
          "model_module_version": "1.5.0",
          "state": {
            "_model_module": "@jupyter-widgets/controls",
            "_model_module_version": "1.5.0",
            "_model_name": "ProgressStyleModel",
            "_view_count": null,
            "_view_module": "@jupyter-widgets/base",
            "_view_module_version": "1.2.0",
            "_view_name": "StyleView",
            "bar_color": null,
            "description_width": ""
          }
        },
        "8a9a4932118844438a8d327ddc4fa984": {
          "model_module": "@jupyter-widgets/base",
          "model_name": "LayoutModel",
          "model_module_version": "1.2.0",
          "state": {
            "_model_module": "@jupyter-widgets/base",
            "_model_module_version": "1.2.0",
            "_model_name": "LayoutModel",
            "_view_count": null,
            "_view_module": "@jupyter-widgets/base",
            "_view_module_version": "1.2.0",
            "_view_name": "LayoutView",
            "align_content": null,
            "align_items": null,
            "align_self": null,
            "border": null,
            "bottom": null,
            "display": null,
            "flex": null,
            "flex_flow": null,
            "grid_area": null,
            "grid_auto_columns": null,
            "grid_auto_flow": null,
            "grid_auto_rows": null,
            "grid_column": null,
            "grid_gap": null,
            "grid_row": null,
            "grid_template_areas": null,
            "grid_template_columns": null,
            "grid_template_rows": null,
            "height": null,
            "justify_content": null,
            "justify_items": null,
            "left": null,
            "margin": null,
            "max_height": null,
            "max_width": null,
            "min_height": null,
            "min_width": null,
            "object_fit": null,
            "object_position": null,
            "order": null,
            "overflow": null,
            "overflow_x": null,
            "overflow_y": null,
            "padding": null,
            "right": null,
            "top": null,
            "visibility": null,
            "width": null
          }
        },
        "e3ebf33764634dcfa4fa913038f31f70": {
          "model_module": "@jupyter-widgets/controls",
          "model_name": "DescriptionStyleModel",
          "model_module_version": "1.5.0",
          "state": {
            "_model_module": "@jupyter-widgets/controls",
            "_model_module_version": "1.5.0",
            "_model_name": "DescriptionStyleModel",
            "_view_count": null,
            "_view_module": "@jupyter-widgets/base",
            "_view_module_version": "1.2.0",
            "_view_name": "StyleView",
            "description_width": ""
          }
        }
      }
    }
  },
  "cells": [
    {
      "cell_type": "markdown",
      "metadata": {
        "id": "view-in-github",
        "colab_type": "text"
      },
      "source": [
        "<a href=\"https://colab.research.google.com/github/Pankaj1662005/ass-6-rana/blob/main/assi6_rana.ipynb\" target=\"_parent\"><img src=\"https://colab.research.google.com/assets/colab-badge.svg\" alt=\"Open In Colab\"/></a>"
      ]
    },
    {
      "cell_type": "markdown",
      "source": [
        "# model 1 selct manually"
      ],
      "metadata": {
        "id": "K_XwCHHYOcja"
      }
    },
    {
      "cell_type": "code",
      "execution_count": 9,
      "metadata": {
        "colab": {
          "base_uri": "https://localhost:8080/"
        },
        "id": "R5nG2Mj9BiyO",
        "outputId": "548c2228-23e9-485a-aeea-c7ceca3b2c7d"
      },
      "outputs": [
        {
          "output_type": "stream",
          "name": "stdout",
          "text": [
            "Cloning into 'DeepFake-Detector'...\n",
            "remote: Enumerating objects: 24, done.\u001b[K\n",
            "remote: Total 24 (delta 0), reused 0 (delta 0), pack-reused 24 (from 1)\u001b[K\n",
            "Unpacking objects: 100% (24/24), 9.05 KiB | 1.29 MiB/s, done.\n",
            "/content/DeepFake-Detector/DeepFake-Detector\n"
          ]
        },
        {
          "output_type": "stream",
          "name": "stderr",
          "text": [
            "WARNING:absl:Compiled the loaded model, but the compiled metrics have yet to be built. `model.compile_metrics` will be empty until you train or evaluate the model.\n",
            "WARNING:absl:Error in loading the saved optimizer state. As a result, your model is starting with a freshly initialized optimizer.\n"
          ]
        }
      ],
      "source": [
        "# =============================\n",
        "# 1. Setup: Clone the repo\n",
        "# =============================\n",
        "!git clone https://huggingface.co/MaanVad3r/DeepFake-Detector\n",
        "%cd DeepFake-Detector\n",
        "\n",
        "# =============================\n",
        "# 2. Install dependencies\n",
        "# =============================\n",
        "!pip install -q tensorflow keras\n",
        "\n",
        "# =============================\n",
        "# 3. Import libraries\n",
        "# =============================\n",
        "import numpy as np\n",
        "from tensorflow.keras.models import load_model\n",
        "from tensorflow.keras.preprocessing import image\n",
        "import matplotlib.pyplot as plt\n",
        "import os\n",
        "from google.colab import files\n",
        "\n",
        "# =============================\n",
        "# 4. Load the pre-trained model\n",
        "# =============================\n",
        "model = load_model('cnn_model.h5')\n",
        "\n"
      ]
    },
    {
      "cell_type": "code",
      "source": [
        "\n",
        "# =============================\n",
        "# 5. Upload images\n",
        "# =============================\n",
        "uploaded = files.upload()  # You can upload one or more images\n",
        "\n",
        "# =============================\n",
        "# 6. Predict on uploaded images\n",
        "# =============================\n",
        "for img_path in uploaded.keys():\n",
        "    img = image.load_img(img_path, target_size=(128, 128))\n",
        "    img_array = image.img_to_array(img) / 255.0\n",
        "    img_array = np.expand_dims(img_array, axis=0)\n",
        "\n",
        "    prediction = model.predict(img_array)[0][0]\n",
        "    label = 'Fake' if prediction >= 0.5 else 'Real'\n",
        "\n",
        "    # Show image and prediction\n",
        "    plt.imshow(img)\n",
        "    plt.title(f\"Prediction: {label} ({prediction:.2f})\")\n",
        "    plt.axis('off')\n",
        "    plt.show()"
      ],
      "metadata": {
        "colab": {
          "base_uri": "https://localhost:8080/",
          "height": 412
        },
        "id": "-ImCRaiODrbi",
        "outputId": "89d15398-9e0f-4791-8a31-73b14f5cf942"
      },
      "execution_count": 12,
      "outputs": [
        {
          "output_type": "display_data",
          "data": {
            "text/plain": [
              "<IPython.core.display.HTML object>"
            ],
            "text/html": [
              "\n",
              "     <input type=\"file\" id=\"files-d14cc739-3109-4e8e-9724-6346af28b1df\" name=\"files[]\" multiple disabled\n",
              "        style=\"border:none\" />\n",
              "     <output id=\"result-d14cc739-3109-4e8e-9724-6346af28b1df\">\n",
              "      Upload widget is only available when the cell has been executed in the\n",
              "      current browser session. Please rerun this cell to enable.\n",
              "      </output>\n",
              "      <script>// Copyright 2017 Google LLC\n",
              "//\n",
              "// Licensed under the Apache License, Version 2.0 (the \"License\");\n",
              "// you may not use this file except in compliance with the License.\n",
              "// You may obtain a copy of the License at\n",
              "//\n",
              "//      http://www.apache.org/licenses/LICENSE-2.0\n",
              "//\n",
              "// Unless required by applicable law or agreed to in writing, software\n",
              "// distributed under the License is distributed on an \"AS IS\" BASIS,\n",
              "// WITHOUT WARRANTIES OR CONDITIONS OF ANY KIND, either express or implied.\n",
              "// See the License for the specific language governing permissions and\n",
              "// limitations under the License.\n",
              "\n",
              "/**\n",
              " * @fileoverview Helpers for google.colab Python module.\n",
              " */\n",
              "(function(scope) {\n",
              "function span(text, styleAttributes = {}) {\n",
              "  const element = document.createElement('span');\n",
              "  element.textContent = text;\n",
              "  for (const key of Object.keys(styleAttributes)) {\n",
              "    element.style[key] = styleAttributes[key];\n",
              "  }\n",
              "  return element;\n",
              "}\n",
              "\n",
              "// Max number of bytes which will be uploaded at a time.\n",
              "const MAX_PAYLOAD_SIZE = 100 * 1024;\n",
              "\n",
              "function _uploadFiles(inputId, outputId) {\n",
              "  const steps = uploadFilesStep(inputId, outputId);\n",
              "  const outputElement = document.getElementById(outputId);\n",
              "  // Cache steps on the outputElement to make it available for the next call\n",
              "  // to uploadFilesContinue from Python.\n",
              "  outputElement.steps = steps;\n",
              "\n",
              "  return _uploadFilesContinue(outputId);\n",
              "}\n",
              "\n",
              "// This is roughly an async generator (not supported in the browser yet),\n",
              "// where there are multiple asynchronous steps and the Python side is going\n",
              "// to poll for completion of each step.\n",
              "// This uses a Promise to block the python side on completion of each step,\n",
              "// then passes the result of the previous step as the input to the next step.\n",
              "function _uploadFilesContinue(outputId) {\n",
              "  const outputElement = document.getElementById(outputId);\n",
              "  const steps = outputElement.steps;\n",
              "\n",
              "  const next = steps.next(outputElement.lastPromiseValue);\n",
              "  return Promise.resolve(next.value.promise).then((value) => {\n",
              "    // Cache the last promise value to make it available to the next\n",
              "    // step of the generator.\n",
              "    outputElement.lastPromiseValue = value;\n",
              "    return next.value.response;\n",
              "  });\n",
              "}\n",
              "\n",
              "/**\n",
              " * Generator function which is called between each async step of the upload\n",
              " * process.\n",
              " * @param {string} inputId Element ID of the input file picker element.\n",
              " * @param {string} outputId Element ID of the output display.\n",
              " * @return {!Iterable<!Object>} Iterable of next steps.\n",
              " */\n",
              "function* uploadFilesStep(inputId, outputId) {\n",
              "  const inputElement = document.getElementById(inputId);\n",
              "  inputElement.disabled = false;\n",
              "\n",
              "  const outputElement = document.getElementById(outputId);\n",
              "  outputElement.innerHTML = '';\n",
              "\n",
              "  const pickedPromise = new Promise((resolve) => {\n",
              "    inputElement.addEventListener('change', (e) => {\n",
              "      resolve(e.target.files);\n",
              "    });\n",
              "  });\n",
              "\n",
              "  const cancel = document.createElement('button');\n",
              "  inputElement.parentElement.appendChild(cancel);\n",
              "  cancel.textContent = 'Cancel upload';\n",
              "  const cancelPromise = new Promise((resolve) => {\n",
              "    cancel.onclick = () => {\n",
              "      resolve(null);\n",
              "    };\n",
              "  });\n",
              "\n",
              "  // Wait for the user to pick the files.\n",
              "  const files = yield {\n",
              "    promise: Promise.race([pickedPromise, cancelPromise]),\n",
              "    response: {\n",
              "      action: 'starting',\n",
              "    }\n",
              "  };\n",
              "\n",
              "  cancel.remove();\n",
              "\n",
              "  // Disable the input element since further picks are not allowed.\n",
              "  inputElement.disabled = true;\n",
              "\n",
              "  if (!files) {\n",
              "    return {\n",
              "      response: {\n",
              "        action: 'complete',\n",
              "      }\n",
              "    };\n",
              "  }\n",
              "\n",
              "  for (const file of files) {\n",
              "    const li = document.createElement('li');\n",
              "    li.append(span(file.name, {fontWeight: 'bold'}));\n",
              "    li.append(span(\n",
              "        `(${file.type || 'n/a'}) - ${file.size} bytes, ` +\n",
              "        `last modified: ${\n",
              "            file.lastModifiedDate ? file.lastModifiedDate.toLocaleDateString() :\n",
              "                                    'n/a'} - `));\n",
              "    const percent = span('0% done');\n",
              "    li.appendChild(percent);\n",
              "\n",
              "    outputElement.appendChild(li);\n",
              "\n",
              "    const fileDataPromise = new Promise((resolve) => {\n",
              "      const reader = new FileReader();\n",
              "      reader.onload = (e) => {\n",
              "        resolve(e.target.result);\n",
              "      };\n",
              "      reader.readAsArrayBuffer(file);\n",
              "    });\n",
              "    // Wait for the data to be ready.\n",
              "    let fileData = yield {\n",
              "      promise: fileDataPromise,\n",
              "      response: {\n",
              "        action: 'continue',\n",
              "      }\n",
              "    };\n",
              "\n",
              "    // Use a chunked sending to avoid message size limits. See b/62115660.\n",
              "    let position = 0;\n",
              "    do {\n",
              "      const length = Math.min(fileData.byteLength - position, MAX_PAYLOAD_SIZE);\n",
              "      const chunk = new Uint8Array(fileData, position, length);\n",
              "      position += length;\n",
              "\n",
              "      const base64 = btoa(String.fromCharCode.apply(null, chunk));\n",
              "      yield {\n",
              "        response: {\n",
              "          action: 'append',\n",
              "          file: file.name,\n",
              "          data: base64,\n",
              "        },\n",
              "      };\n",
              "\n",
              "      let percentDone = fileData.byteLength === 0 ?\n",
              "          100 :\n",
              "          Math.round((position / fileData.byteLength) * 100);\n",
              "      percent.textContent = `${percentDone}% done`;\n",
              "\n",
              "    } while (position < fileData.byteLength);\n",
              "  }\n",
              "\n",
              "  // All done.\n",
              "  yield {\n",
              "    response: {\n",
              "      action: 'complete',\n",
              "    }\n",
              "  };\n",
              "}\n",
              "\n",
              "scope.google = scope.google || {};\n",
              "scope.google.colab = scope.google.colab || {};\n",
              "scope.google.colab._files = {\n",
              "  _uploadFiles,\n",
              "  _uploadFilesContinue,\n",
              "};\n",
              "})(self);\n",
              "</script> "
            ]
          },
          "metadata": {}
        },
        {
          "output_type": "stream",
          "name": "stdout",
          "text": [
            "Saving WIN_20250502_21_38_37_Pro.mp4 to WIN_20250502_21_38_37_Pro.mp4\n"
          ]
        },
        {
          "output_type": "error",
          "ename": "UnidentifiedImageError",
          "evalue": "cannot identify image file <_io.BytesIO object at 0x7e5735bd7880>",
          "traceback": [
            "\u001b[0;31m---------------------------------------------------------------------------\u001b[0m",
            "\u001b[0;31mUnidentifiedImageError\u001b[0m                    Traceback (most recent call last)",
            "\u001b[0;32m<ipython-input-12-32cf4e637e02>\u001b[0m in \u001b[0;36m<cell line: 0>\u001b[0;34m()\u001b[0m\n\u001b[1;32m      8\u001b[0m \u001b[0;31m# =============================\u001b[0m\u001b[0;34m\u001b[0m\u001b[0;34m\u001b[0m\u001b[0m\n\u001b[1;32m      9\u001b[0m \u001b[0;32mfor\u001b[0m \u001b[0mimg_path\u001b[0m \u001b[0;32min\u001b[0m \u001b[0muploaded\u001b[0m\u001b[0;34m.\u001b[0m\u001b[0mkeys\u001b[0m\u001b[0;34m(\u001b[0m\u001b[0;34m)\u001b[0m\u001b[0;34m:\u001b[0m\u001b[0;34m\u001b[0m\u001b[0;34m\u001b[0m\u001b[0m\n\u001b[0;32m---> 10\u001b[0;31m     \u001b[0mimg\u001b[0m \u001b[0;34m=\u001b[0m \u001b[0mimage\u001b[0m\u001b[0;34m.\u001b[0m\u001b[0mload_img\u001b[0m\u001b[0;34m(\u001b[0m\u001b[0mimg_path\u001b[0m\u001b[0;34m,\u001b[0m \u001b[0mtarget_size\u001b[0m\u001b[0;34m=\u001b[0m\u001b[0;34m(\u001b[0m\u001b[0;36m128\u001b[0m\u001b[0;34m,\u001b[0m \u001b[0;36m128\u001b[0m\u001b[0;34m)\u001b[0m\u001b[0;34m)\u001b[0m\u001b[0;34m\u001b[0m\u001b[0;34m\u001b[0m\u001b[0m\n\u001b[0m\u001b[1;32m     11\u001b[0m     \u001b[0mimg_array\u001b[0m \u001b[0;34m=\u001b[0m \u001b[0mimage\u001b[0m\u001b[0;34m.\u001b[0m\u001b[0mimg_to_array\u001b[0m\u001b[0;34m(\u001b[0m\u001b[0mimg\u001b[0m\u001b[0;34m)\u001b[0m \u001b[0;34m/\u001b[0m \u001b[0;36m255.0\u001b[0m\u001b[0;34m\u001b[0m\u001b[0;34m\u001b[0m\u001b[0m\n\u001b[1;32m     12\u001b[0m     \u001b[0mimg_array\u001b[0m \u001b[0;34m=\u001b[0m \u001b[0mnp\u001b[0m\u001b[0;34m.\u001b[0m\u001b[0mexpand_dims\u001b[0m\u001b[0;34m(\u001b[0m\u001b[0mimg_array\u001b[0m\u001b[0;34m,\u001b[0m \u001b[0maxis\u001b[0m\u001b[0;34m=\u001b[0m\u001b[0;36m0\u001b[0m\u001b[0;34m)\u001b[0m\u001b[0;34m\u001b[0m\u001b[0;34m\u001b[0m\u001b[0m\n",
            "\u001b[0;32m/usr/local/lib/python3.11/dist-packages/keras/src/utils/image_utils.py\u001b[0m in \u001b[0;36mload_img\u001b[0;34m(path, color_mode, target_size, interpolation, keep_aspect_ratio)\u001b[0m\n\u001b[1;32m    234\u001b[0m             \u001b[0mpath\u001b[0m \u001b[0;34m=\u001b[0m \u001b[0mstr\u001b[0m\u001b[0;34m(\u001b[0m\u001b[0mpath\u001b[0m\u001b[0;34m.\u001b[0m\u001b[0mresolve\u001b[0m\u001b[0;34m(\u001b[0m\u001b[0;34m)\u001b[0m\u001b[0;34m)\u001b[0m\u001b[0;34m\u001b[0m\u001b[0;34m\u001b[0m\u001b[0m\n\u001b[1;32m    235\u001b[0m         \u001b[0;32mwith\u001b[0m \u001b[0mopen\u001b[0m\u001b[0;34m(\u001b[0m\u001b[0mpath\u001b[0m\u001b[0;34m,\u001b[0m \u001b[0;34m\"rb\"\u001b[0m\u001b[0;34m)\u001b[0m \u001b[0;32mas\u001b[0m \u001b[0mf\u001b[0m\u001b[0;34m:\u001b[0m\u001b[0;34m\u001b[0m\u001b[0;34m\u001b[0m\u001b[0m\n\u001b[0;32m--> 236\u001b[0;31m             \u001b[0mimg\u001b[0m \u001b[0;34m=\u001b[0m \u001b[0mpil_image\u001b[0m\u001b[0;34m.\u001b[0m\u001b[0mopen\u001b[0m\u001b[0;34m(\u001b[0m\u001b[0mio\u001b[0m\u001b[0;34m.\u001b[0m\u001b[0mBytesIO\u001b[0m\u001b[0;34m(\u001b[0m\u001b[0mf\u001b[0m\u001b[0;34m.\u001b[0m\u001b[0mread\u001b[0m\u001b[0;34m(\u001b[0m\u001b[0;34m)\u001b[0m\u001b[0;34m)\u001b[0m\u001b[0;34m)\u001b[0m\u001b[0;34m\u001b[0m\u001b[0;34m\u001b[0m\u001b[0m\n\u001b[0m\u001b[1;32m    237\u001b[0m     \u001b[0;32melse\u001b[0m\u001b[0;34m:\u001b[0m\u001b[0;34m\u001b[0m\u001b[0;34m\u001b[0m\u001b[0m\n\u001b[1;32m    238\u001b[0m         raise TypeError(\n",
            "\u001b[0;32m/usr/local/lib/python3.11/dist-packages/PIL/Image.py\u001b[0m in \u001b[0;36mopen\u001b[0;34m(fp, mode, formats)\u001b[0m\n\u001b[1;32m   3570\u001b[0m         \u001b[0mwarnings\u001b[0m\u001b[0;34m.\u001b[0m\u001b[0mwarn\u001b[0m\u001b[0;34m(\u001b[0m\u001b[0mmessage\u001b[0m\u001b[0;34m)\u001b[0m\u001b[0;34m\u001b[0m\u001b[0;34m\u001b[0m\u001b[0m\n\u001b[1;32m   3571\u001b[0m     \u001b[0mmsg\u001b[0m \u001b[0;34m=\u001b[0m \u001b[0;34m\"cannot identify image file %r\"\u001b[0m \u001b[0;34m%\u001b[0m \u001b[0;34m(\u001b[0m\u001b[0mfilename\u001b[0m \u001b[0;32mif\u001b[0m \u001b[0mfilename\u001b[0m \u001b[0;32melse\u001b[0m \u001b[0mfp\u001b[0m\u001b[0;34m)\u001b[0m\u001b[0;34m\u001b[0m\u001b[0;34m\u001b[0m\u001b[0m\n\u001b[0;32m-> 3572\u001b[0;31m     \u001b[0;32mraise\u001b[0m \u001b[0mUnidentifiedImageError\u001b[0m\u001b[0;34m(\u001b[0m\u001b[0mmsg\u001b[0m\u001b[0;34m)\u001b[0m\u001b[0;34m\u001b[0m\u001b[0;34m\u001b[0m\u001b[0m\n\u001b[0m\u001b[1;32m   3573\u001b[0m \u001b[0;34m\u001b[0m\u001b[0m\n\u001b[1;32m   3574\u001b[0m \u001b[0;34m\u001b[0m\u001b[0m\n",
            "\u001b[0;31mUnidentifiedImageError\u001b[0m: cannot identify image file <_io.BytesIO object at 0x7e5735bd7880>"
          ]
        }
      ]
    },
    {
      "cell_type": "code",
      "source": [
        "# =============================\n",
        "# 1. Clone the pre-trained model repo\n",
        "# =============================\n",
        "!git clone https://huggingface.co/MaanVad3r/DeepFake-Detector\n",
        "%cd DeepFake-Detector\n",
        "\n",
        "# =============================\n",
        "# 2. Install required packages\n",
        "# =============================\n",
        "!pip install -q tensorflow keras\n",
        "\n",
        "# =============================\n",
        "# 3. Import libraries\n",
        "# =============================\n",
        "import os\n",
        "import numpy as np\n",
        "import pandas as pd\n",
        "from tensorflow.keras.models import load_model\n",
        "from tensorflow.keras.preprocessing import image\n",
        "from tqdm import tqdm\n",
        "import zipfile\n"
      ],
      "metadata": {
        "colab": {
          "base_uri": "https://localhost:8080/"
        },
        "id": "eialiK1wL1dG",
        "outputId": "63ac1380-954c-4c49-a077-ef91bae95d28"
      },
      "execution_count": 30,
      "outputs": [
        {
          "output_type": "stream",
          "name": "stdout",
          "text": [
            "Cloning into 'DeepFake-Detector'...\n",
            "remote: Enumerating objects: 24, done.\u001b[K\n",
            "remote: Total 24 (delta 0), reused 0 (delta 0), pack-reused 24 (from 1)\u001b[K\n",
            "Unpacking objects: 100% (24/24), 9.05 KiB | 1.00 MiB/s, done.\n",
            "/content/DeepFake-Detector\n"
          ]
        }
      ]
    },
    {
      "cell_type": "code",
      "source": [
        "\n",
        "# =============================\n",
        "# 4. Unzip the uploaded dataset\n",
        "# =============================\n",
        "zip_path = \"/content/Test.zip\"  # <-- Your uploaded zip path\n",
        "with zipfile.ZipFile(zip_path, 'r') as zip_ref:\n",
        "    zip_ref.extractall(\"/content/Test\")\n",
        "\n",
        "# =============================\n",
        "# 5. Choose one folder: 'real' or 'fake'\n",
        "# =============================\n",
        "dataset_path = \"/content/Test/Test/Real\"  # or \"/content/Test/fake\"\n",
        "\n",
        "# =============================\n",
        "# 6. Load pre-trained model\n",
        "# =============================\n",
        "model = load_model(\"cnn_model.h5\")\n",
        "\n",
        "# =============================\n",
        "# 7. Predict on images in the selected folder\n",
        "# =============================\n",
        "results = []\n",
        "\n",
        "for filename in tqdm(os.listdir(dataset_path), desc=\"Running predictions\"):\n",
        "    if filename.lower().endswith(('.jpg', '.jpeg', '.png')):\n",
        "        img_path = os.path.join(dataset_path, filename)\n",
        "        try:\n",
        "            img = image.load_img(img_path, target_size=(128, 128))\n",
        "            img_array = image.img_to_array(img) / 255.0\n",
        "            img_array = np.expand_dims(img_array, axis=0)\n",
        "\n",
        "            prediction = model.predict(img_array, verbose=0)[0][0]\n",
        "            label = \"Fake\" if prediction >= 0.5 else \"Real\"\n",
        "\n",
        "            results.append({\n",
        "                \"filename\": filename,\n",
        "                \"prediction_score\": float(prediction),\n",
        "                \"predicted_label\": label\n",
        "            })\n",
        "\n",
        "        except Exception as e:\n",
        "            print(f\"Error on {filename}: {e}\")\n",
        "\n",
        "# =============================\n",
        "# 8. Save results to CSV\n",
        "# =============================\n",
        "df = pd.DataFrame(results)\n",
        "df.to_csv(\"deepfake_results_from_real_folder.csv\", index=False)\n",
        "print(\"✅ Saved predictions to deepfake_results_from_real_folder.csv\")\n"
      ],
      "metadata": {
        "colab": {
          "base_uri": "https://localhost:8080/"
        },
        "id": "EwuQ3IDaLst8",
        "outputId": "7afed8c8-7c30-417b-def0-ea40e94809b2"
      },
      "execution_count": 3,
      "outputs": [
        {
          "output_type": "stream",
          "name": "stderr",
          "text": [
            "WARNING:absl:Compiled the loaded model, but the compiled metrics have yet to be built. `model.compile_metrics` will be empty until you train or evaluate the model.\n",
            "WARNING:absl:Error in loading the saved optimizer state. As a result, your model is starting with a freshly initialized optimizer.\n",
            "Running predictions: 100%|██████████| 100/100 [00:14<00:00,  6.91it/s]"
          ]
        },
        {
          "output_type": "stream",
          "name": "stdout",
          "text": [
            "✅ Saved predictions to deepfake_results_from_real_folder.csv\n"
          ]
        },
        {
          "output_type": "stream",
          "name": "stderr",
          "text": [
            "\n"
          ]
        }
      ]
    },
    {
      "cell_type": "code",
      "source": [
        "from sklearn.metrics import classification_report, confusion_matrix, ConfusionMatrixDisplay\n",
        "import matplotlib.pyplot as plt\n",
        "\n",
        "# =============================\n",
        "# 1. Combine Real and Fake Predictions\n",
        "# =============================\n",
        "# Run inference on both folders\n",
        "real_path = \"/content/Test/Test/Real\"\n",
        "fake_path = \"/content/Test/Test/Fake\"\n",
        "\n",
        "results = []\n",
        "\n",
        "def run_predictions(folder_path, true_label):\n",
        "    for filename in os.listdir(folder_path):\n",
        "        if filename.lower().endswith(('.jpg', '.jpeg', '.png')):\n",
        "            img_path = os.path.join(folder_path, filename)\n",
        "            try:\n",
        "                img = image.load_img(img_path, target_size=(128, 128))\n",
        "                img_array = image.img_to_array(img) / 255.0\n",
        "                img_array = np.expand_dims(img_array, axis=0)\n",
        "\n",
        "                prediction = model.predict(img_array, verbose=0)[0][0]\n",
        "                predicted_label = \"Fake\" if prediction >= 0.5 else \"Real\"\n",
        "\n",
        "                results.append({\n",
        "                    \"filename\": filename,\n",
        "                    \"true_label\": true_label,\n",
        "                    \"predicted_label\": predicted_label,\n",
        "                    \"score\": float(prediction)\n",
        "                })\n",
        "            except Exception as e:\n",
        "                print(f\"Error on {filename}: {e}\")\n",
        "\n",
        "# Run on both folders\n",
        "run_predictions(real_path, \"Real\")\n",
        "run_predictions(fake_path, \"Fake\")\n",
        "\n",
        "# =============================\n",
        "# 2. Evaluation Metrics\n",
        "# =============================\n",
        "df = pd.DataFrame(results)\n",
        "df.to_csv(\"all_predictions.csv\", index=False)\n",
        "\n",
        "y_true = df[\"true_label\"]\n",
        "y_pred = df[\"predicted_label\"]\n",
        "\n",
        "# Classification report\n",
        "print(\"🔍 Classification Report:\")\n",
        "print(classification_report(y_true, y_pred))\n",
        "\n",
        "# Confusion Matrix\n",
        "cm = confusion_matrix(y_true, y_pred, labels=[\"Real\", \"Fake\"])\n",
        "disp = ConfusionMatrixDisplay(confusion_matrix=cm, display_labels=[\"Real\", \"Fake\"])\n",
        "disp.plot(cmap=plt.cm.Blues)\n",
        "plt.title(\"Confusion Matrix\")\n",
        "plt.show()\n"
      ],
      "metadata": {
        "colab": {
          "base_uri": "https://localhost:8080/",
          "height": 646
        },
        "id": "r8sSxmkBMp8d",
        "outputId": "67266b3c-0766-4b4e-af83-4d7a1e9a15fb"
      },
      "execution_count": 4,
      "outputs": [
        {
          "output_type": "stream",
          "name": "stdout",
          "text": [
            "🔍 Classification Report:\n",
            "              precision    recall  f1-score   support\n",
            "\n",
            "        Fake       0.65      0.88      0.75       100\n",
            "        Real       0.81      0.52      0.63       100\n",
            "\n",
            "    accuracy                           0.70       200\n",
            "   macro avg       0.73      0.70      0.69       200\n",
            "weighted avg       0.73      0.70      0.69       200\n",
            "\n"
          ]
        },
        {
          "output_type": "display_data",
          "data": {
            "text/plain": [
              "<Figure size 640x480 with 2 Axes>"
            ],
            "image/png": "[encoded data removed]"
          },
          "metadata": {}
        }
      ]
    },
    {
      "cell_type": "code",
      "source": [],
      "metadata": {
        "id": "jLqr-5ZoRvHH"
      },
      "execution_count": null,
      "outputs": []
    },
    {
      "cell_type": "code",
      "source": [
        "!pip install -q torch torchvision transformers onnxruntime tqdm scikit-learn\n"
      ],
      "metadata": {
        "colab": {
          "base_uri": "https://localhost:8080/"
        },
        "id": "osOVFvNqbXwF",
        "outputId": "e362f473-d915-49b0-cf74-993bd092c1f2"
      },
      "execution_count": 1,
      "outputs": [
        {
          "output_type": "stream",
          "name": "stdout",
          "text": [
            "\u001b[2K   \u001b[90m━━━━━━━━━━━━━━━━━━━━━━━━━━━━━━━━━━━━━━━━\u001b[0m \u001b[32m363.4/363.4 MB\u001b[0m \u001b[31m3.6 MB/s\u001b[0m eta \u001b[36m0:00:00\u001b[0m\n",
            "\u001b[2K   \u001b[90m━━━━━━━━━━━━━━━━━━━━━━━━━━━━━━━━━━━━━━━━\u001b[0m \u001b[32m13.8/13.8 MB\u001b[0m \u001b[31m97.6 MB/s\u001b[0m eta \u001b[36m0:00:00\u001b[0m\n",
            "\u001b[2K   \u001b[90m━━━━━━━━━━━━━━━━━━━━━━━━━━━━━━━━━━━━━━━━\u001b[0m \u001b[32m24.6/24.6 MB\u001b[0m \u001b[31m83.9 MB/s\u001b[0m eta \u001b[36m0:00:00\u001b[0m\n",
            "\u001b[2K   \u001b[90m━━━━━━━━━━━━━━━━━━━━━━━━━━━━━━━━━━━━━━━━\u001b[0m \u001b[32m883.7/883.7 kB\u001b[0m \u001b[31m46.5 MB/s\u001b[0m eta \u001b[36m0:00:00\u001b[0m\n",
            "\u001b[2K   \u001b[90m━━━━━━━━━━━━━━━━━━━━━━━━━━━━━━━━━━━━━━━━\u001b[0m \u001b[32m664.8/664.8 MB\u001b[0m \u001b[31m1.4 MB/s\u001b[0m eta \u001b[36m0:00:00\u001b[0m\n",
            "\u001b[2K   \u001b[90m━━━━━━━━━━━━━━━━━━━━━━━━━━━━━━━━━━━━━━━━\u001b[0m \u001b[32m211.5/211.5 MB\u001b[0m \u001b[31m5.6 MB/s\u001b[0m eta \u001b[36m0:00:00\u001b[0m\n",
            "\u001b[2K   \u001b[90m━━━━━━━━━━━━━━━━━━━━━━━━━━━━━━━━━━━━━━━━\u001b[0m \u001b[32m56.3/56.3 MB\u001b[0m \u001b[31m8.2 MB/s\u001b[0m eta \u001b[36m0:00:00\u001b[0m\n",
            "\u001b[2K   \u001b[90m━━━━━━━━━━━━━━━━━━━━━━━━━━━━━━━━━━━━━━━━\u001b[0m \u001b[32m127.9/127.9 MB\u001b[0m \u001b[31m7.4 MB/s\u001b[0m eta \u001b[36m0:00:00\u001b[0m\n",
            "\u001b[2K   \u001b[90m━━━━━━━━━━━━━━━━━━━━━━━━━━━━━━━━━━━━━━━━\u001b[0m \u001b[32m207.5/207.5 MB\u001b[0m \u001b[31m2.3 MB/s\u001b[0m eta \u001b[36m0:00:00\u001b[0m\n",
            "\u001b[2K   \u001b[90m━━━━━━━━━━━━━━━━━━━━━━━━━━━━━━━━━━━━━━━━\u001b[0m \u001b[32m21.1/21.1 MB\u001b[0m \u001b[31m38.7 MB/s\u001b[0m eta \u001b[36m0:00:00\u001b[0m\n",
            "\u001b[2K   \u001b[90m━━━━━━━━━━━━━━━━━━━━━━━━━━━━━━━━━━━━━━━━\u001b[0m \u001b[32m16.4/16.4 MB\u001b[0m \u001b[31m63.7 MB/s\u001b[0m eta \u001b[36m0:00:00\u001b[0m\n",
            "\u001b[2K   \u001b[90m━━━━━━━━━━━━━━━━━━━━━━━━━━━━━━━━━━━━━━━━\u001b[0m \u001b[32m46.0/46.0 kB\u001b[0m \u001b[31m2.4 MB/s\u001b[0m eta \u001b[36m0:00:00\u001b[0m\n",
            "\u001b[2K   \u001b[90m━━━━━━━━━━━━━━━━━━━━━━━━━━━━━━━━━━━━━━━━\u001b[0m \u001b[32m86.8/86.8 kB\u001b[0m \u001b[31m3.9 MB/s\u001b[0m eta \u001b[36m0:00:00\u001b[0m\n",
            "\u001b[?25h"
          ]
        }
      ]
    },
    {
      "cell_type": "code",
      "source": [
        "import os\n",
        "import torch\n",
        "import onnxruntime\n",
        "import numpy as np\n",
        "import pandas as pd\n",
        "from PIL import Image\n",
        "from torchvision import transforms\n",
        "from tqdm import tqdm\n",
        "from sklearn.metrics import classification_report, confusion_matrix\n",
        "import matplotlib.pyplot as plt\n",
        "import seaborn as sns\n"
      ],
      "metadata": {
        "id": "X3MYnFN6bYs2"
      },
      "execution_count": 2,
      "outputs": []
    },
    {
      "cell_type": "code",
      "source": [
        "import zipfile\n",
        "zip_path = \"/content/Test.zip\"  # <-- Your uploaded zip path\n",
        "with zipfile.ZipFile(zip_path, 'r') as zip_ref:\n",
        "    zip_ref.extractall(\"/content/Test\")"
      ],
      "metadata": {
        "id": "DNInk5IDbhZo"
      },
      "execution_count": 4,
      "outputs": []
    },
    {
      "cell_type": "code",
      "source": [
        "real_path = \"/content/Test/Test/Real\"\n",
        "fake_path = \"/content/Test/Test/Fake\"\n",
        "\n",
        "image_paths = []\n",
        "labels = []\n",
        "\n",
        "for path, label in [(real_path, \"Real\"), (fake_path, \"Fake\")]:\n",
        "    for file in os.listdir(path):\n",
        "        if file.lower().endswith(('jpg', 'jpeg', 'png')):\n",
        "            image_paths.append(os.path.join(path, file))\n",
        "            labels.append(label)\n",
        "\n",
        "df = pd.DataFrame({'path': image_paths, 'label': labels})\n"
      ],
      "metadata": {
        "id": "gPrw9QYJbahX"
      },
      "execution_count": 6,
      "outputs": []
    },
    {
      "cell_type": "code",
      "source": [
        "from transformers import AutoImageProcessor, AutoModelForImageClassification\n",
        "\n",
        "def predict_with_transformer(model_name, df, device='cuda' if torch.cuda.is_available() else 'cpu'):\n",
        "    processor = AutoImageProcessor.from_pretrained(model_name)\n",
        "    model = AutoModelForImageClassification.from_pretrained(model_name).to(device)\n",
        "    model.eval()\n",
        "\n",
        "    predictions = []\n",
        "\n",
        "    for path in tqdm(df['path'], desc=f\"Predicting with {model_name}\"):\n",
        "        img = Image.open(path).convert(\"RGB\")\n",
        "        inputs = processor(images=img, return_tensors=\"pt\").to(device)\n",
        "\n",
        "        with torch.no_grad():\n",
        "            logits = model(**inputs).logits\n",
        "            predicted_class = logits.argmax(-1).item()\n",
        "\n",
        "        predictions.append(predicted_class)\n",
        "\n",
        "    return predictions\n"
      ],
      "metadata": {
        "id": "S6nIcPPebkGl"
      },
      "execution_count": 7,
      "outputs": []
    },
    {
      "cell_type": "code",
      "source": [
        "def predict_with_onnx(model_path, df, input_size=(224, 224)):\n",
        "    ort_session = onnxruntime.InferenceSession(model_path)\n",
        "    predictions = []\n",
        "\n",
        "    transform = transforms.Compose([\n",
        "        transforms.Resize(input_size),\n",
        "        transforms.ToTensor(),\n",
        "    ])\n",
        "\n",
        "    for path in tqdm(df['path'], desc=f\"Predicting with ONNX model: {os.path.basename(model_path)}\"):\n",
        "        img = Image.open(path).convert(\"RGB\")\n",
        "        img_tensor = transform(img).unsqueeze(0).numpy()\n",
        "\n",
        "        ort_inputs = {ort_session.get_inputs()[0].name: img_tensor}\n",
        "        ort_outs = ort_session.run(None, ort_inputs)\n",
        "        predicted_class = int(np.argmax(ort_outs[0]))\n",
        "\n",
        "        predictions.append(predicted_class)\n",
        "\n",
        "    return predictions\n"
      ],
      "metadata": {
        "id": "BYODWfWfblko"
      },
      "execution_count": 8,
      "outputs": []
    },
    {
      "cell_type": "code",
      "source": [
        "def evaluate_model(name, y_true, y_pred):\n",
        "    print(f\"\\n📊 Evaluation for {name}:\")\n",
        "    print(classification_report(y_true, y_pred, target_names=[\"Real\", \"Fake\"]))\n",
        "\n",
        "    cm = confusion_matrix(y_true, y_pred)\n",
        "    sns.heatmap(cm, annot=True, fmt=\"d\", cmap=\"Blues\", xticklabels=[\"Real\", \"Fake\"], yticklabels=[\"Real\", \"Fake\"])\n",
        "    plt.title(f\"Confusion Matrix - {name}\")\n",
        "    plt.xlabel(\"Predicted\")\n",
        "    plt.ylabel(\"True\")\n",
        "    plt.show()\n"
      ],
      "metadata": {
        "id": "vPH2puRvbnBS"
      },
      "execution_count": 9,
      "outputs": []
    },
    {
      "cell_type": "code",
      "source": [],
      "metadata": {
        "id": "SS-Z3cABgR06"
      },
      "execution_count": null,
      "outputs": []
    },
    {
      "cell_type": "code",
      "source": [
        "!pip install -q transformers torch torchvision onnxruntime tensorflow keras opencv-python pandas scikit-learn matplotlib tqdm\n"
      ],
      "metadata": {
        "id": "sixs9g3jdhyI"
      },
      "execution_count": 22,
      "outputs": []
    },
    {
      "cell_type": "code",
      "source": [
        "from tensorflow.keras.models import load_model\n",
        "from tensorflow.keras.preprocessing import image\n",
        "\n",
        "cnn_model = load_model('/content/DeepFake-Detector/cnn_model.h5')\n",
        "\n",
        "def predict_with_cnn(df):\n",
        "    y_pred = []\n",
        "    for path in tqdm(df[\"filepath\"], desc=\"CNN Predictions\"):\n",
        "        img = image.load_img(path, target_size=(128, 128))\n",
        "        img_array = image.img_to_array(img) / 255.0\n",
        "        img_array = np.expand_dims(img_array, axis=0)\n",
        "        prediction = cnn_model.predict(img_array, verbose=0)[0][0]\n",
        "        y_pred.append(1 if prediction >= 0.5 else 0)\n",
        "    return y_pred\n"
      ],
      "metadata": {
        "colab": {
          "base_uri": "https://localhost:8080/"
        },
        "id": "L4CaTd_OgIU6",
        "outputId": "c0ff8efe-974a-4aee-b5fd-6035c876b7da"
      },
      "execution_count": 31,
      "outputs": [
        {
          "output_type": "stream",
          "name": "stderr",
          "text": [
            "/usr/local/lib/python3.11/dist-packages/keras/src/layers/convolutional/base_conv.py:107: UserWarning: Do not pass an `input_shape`/`input_dim` argument to a layer. When using Sequential models, prefer using an `Input(shape)` object as the first layer in the model instead.\n",
            "  super().__init__(activity_regularizer=activity_regularizer, **kwargs)\n",
            "/usr/local/lib/python3.11/dist-packages/keras/src/optimizers/base_optimizer.py:86: UserWarning: Argument `decay` is no longer supported and will be ignored.\n",
            "  warnings.warn(\n",
            "WARNING:absl:Compiled the loaded model, but the compiled metrics have yet to be built. `model.compile_metrics` will be empty until you train or evaluate the model.\n",
            "WARNING:absl:Error in loading the saved optimizer state. As a result, your model is starting with a freshly initialized optimizer.\n"
          ]
        }
      ]
    },
    {
      "cell_type": "code",
      "source": [
        "from transformers import ViTForImageClassification, ViTImageProcessor\n",
        "import torch\n",
        "\n",
        "vit_model = ViTForImageClassification.from_pretrained(\"prithivMLmods/Deep-Fake-Detector-Model\")\n",
        "vit_processor = ViTImageProcessor.from_pretrained(\"prithivMLmods/Deep-Fake-Detector-Model\")\n",
        "\n",
        "def predict_with_vit(df):\n",
        "    y_pred = []\n",
        "    for path in tqdm(df[\"filepath\"], desc=\"ViT Predictions\"):\n",
        "        img = Image.open(path).convert(\"RGB\")\n",
        "        inputs = vit_processor(images=img, return_tensors=\"pt\")\n",
        "        with torch.no_grad():\n",
        "            logits = vit_model(**inputs).logits\n",
        "            pred = torch.argmax(logits, dim=1).item()\n",
        "            y_pred.append(pred)\n",
        "    return y_pred\n"
      ],
      "metadata": {
        "id": "J8hkYZSogV4a"
      },
      "execution_count": 32,
      "outputs": []
    },
    {
      "cell_type": "code",
      "source": [
        "import onnxruntime as ort\n",
        "import cv2\n",
        "\n",
        "def preprocess_for_onnx(img_path):\n",
        "    img = cv2.imread(img_path)\n",
        "    img = cv2.resize(img, (128, 128))\n",
        "    img = img.astype(np.float32) / 255.0\n",
        "    img = np.transpose(img, (2, 0, 1))  # Channels first\n",
        "    return np.expand_dims(img, axis=0)\n",
        "\n",
        "def predict_with_onnx(model_path, df):\n",
        "    ort_session = ort.InferenceSession(model_path)\n",
        "    y_pred = []\n",
        "    for path in tqdm(df[\"filepath\"], desc=\"ONNX Predictions\"):\n",
        "        input_data = preprocess_for_onnx(path)\n",
        "        outputs = ort_session.run(None, {\"input_1\": input_data})  # Replace with actual input name if different\n",
        "        score = outputs[0][0][0]\n",
        "        y_pred.append(1 if score >= 0.5 else 0)\n",
        "    return y_pred\n"
      ],
      "metadata": {
        "id": "FE6qV3QBgV1B"
      },
      "execution_count": 33,
      "outputs": []
    },
    {
      "cell_type": "code",
      "source": [
        "from sklearn.metrics import classification_report, confusion_matrix, ConfusionMatrixDisplay\n",
        "import matplotlib.pyplot as plt\n",
        "\n",
        "def evaluate_model(model_name, y_true, y_pred):\n",
        "    print(f\"📈 Evaluation: {model_name}\")\n",
        "    print(classification_report(y_true, y_pred, target_names=[\"Real\", \"Fake\"]))\n",
        "\n",
        "    cm = confusion_matrix(y_true, y_pred)\n",
        "    disp = ConfusionMatrixDisplay(cm, display_labels=[\"Real\", \"Fake\"])\n",
        "    disp.plot(cmap=plt.cm.Blues)\n",
        "    plt.title(f\"Confusion Matrix - {model_name}\")\n",
        "    plt.show()\n"
      ],
      "metadata": {
        "id": "ZDkZvHkZgZHp"
      },
      "execution_count": 34,
      "outputs": []
    },
    {
      "cell_type": "code",
      "source": [
        "model_results = {}\n",
        "\n",
        "# 1. CNN Model\n",
        "y_pred_cnn = predict_with_cnn(df)\n",
        "evaluate_model(\"CNN (Custom)\", df['label_num'], y_pred_cnn)\n",
        "model_results[\"CNN\"] = y_pred_cnn\n",
        "\n",
        "# 2. ViT Model\n",
        "y_pred_vit = predict_with_vit(df)\n",
        "evaluate_model(\"Vision Transformer (Hugging Face)\", df['label_num'], y_pred_vit)\n",
        "model_results[\"ViT\"] = y_pred_vit\n",
        "\n",
        "# 3. ONNX Model (Optional)\n",
        "# y_pred_onnx = predict_with_onnx(\"/path/to/onnx_model.onnx\", df)\n",
        "# evaluate_model(\"ONNX Model\", df['label_num'], y_pred_onnx)\n",
        "# model_results[\"ONNX\"] = y_pred_onnx\n"
      ],
      "metadata": {
        "colab": {
          "base_uri": "https://localhost:8080/",
          "height": 1000
        },
        "id": "OIJeLYNzgcOn",
        "outputId": "c1244e1d-8062-4afe-f81e-8f0ecb2ebadf"
      },
      "execution_count": 35,
      "outputs": [
        {
          "output_type": "stream",
          "name": "stderr",
          "text": [
            "CNN Predictions: 100%|██████████| 200/200 [00:31<00:00,  6.26it/s]\n"
          ]
        },
        {
          "output_type": "stream",
          "name": "stdout",
          "text": [
            "📈 Evaluation: CNN (Custom)\n",
            "              precision    recall  f1-score   support\n",
            "\n",
            "        Real       0.81      0.52      0.63       100\n",
            "        Fake       0.65      0.88      0.75       100\n",
            "\n",
            "    accuracy                           0.70       200\n",
            "   macro avg       0.73      0.70      0.69       200\n",
            "weighted avg       0.73      0.70      0.69       200\n",
            "\n"
          ]
        },
        {
          "output_type": "display_data",
          "data": {
            "text/plain": [
              "<Figure size 640x480 with 2 Axes>"
            ],
            "image/png": "[encoded data removed]"
          },
          "metadata": {}
        },
        {
          "output_type": "stream",
          "name": "stderr",
          "text": [
            "ViT Predictions: 100%|██████████| 200/200 [02:30<00:00,  1.33it/s]"
          ]
        },
        {
          "output_type": "stream",
          "name": "stdout",
          "text": [
            "📈 Evaluation: Vision Transformer (Hugging Face)\n",
            "              precision    recall  f1-score   support\n",
            "\n",
            "        Real       0.41      0.70      0.52       100\n",
            "        Fake       0.00      0.00      0.00       100\n",
            "\n",
            "    accuracy                           0.35       200\n",
            "   macro avg       0.21      0.35      0.26       200\n",
            "weighted avg       0.21      0.35      0.26       200\n",
            "\n"
          ]
        },
        {
          "output_type": "stream",
          "name": "stderr",
          "text": [
            "\n"
          ]
        },
        {
          "output_type": "display_data",
          "data": {
            "text/plain": [
              "<Figure size 640x480 with 2 Axes>"
            ],
            "image/png": "[encoded data removed]"
          },
          "metadata": {}
        }
      ]
    },
    {
      "cell_type": "markdown",
      "source": [
        "# New Section"
      ],
      "metadata": {
        "id": "IzXcuZHdicaM"
      }
    },
    {
      "cell_type": "code",
      "source": [
        "# Clone necessary repositories\n",
        "!git clone https://huggingface.co/MaanVad3r/DeepFake-Detector\n",
        "!git clone https://github.com/Balaji-Kartheek/DeepFake_Detection.git\n",
        "# !git clone https://github.com/VMD7/deepfake-detection.git\n",
        "!git clone https://github.com/erprogs/GenConViT.git\n",
        "!git clone https://github.com/rshaojimmy/DeepFake-Adapter.git\n",
        "\n"
      ],
      "metadata": {
        "colab": {
          "base_uri": "https://localhost:8080/"
        },
        "id": "Q2qrSkbbibtL",
        "outputId": "7d788f50-14e5-4a9f-d301-db5d3676133b"
      },
      "execution_count": 1,
      "outputs": [
        {
          "output_type": "stream",
          "name": "stdout",
          "text": [
            "Cloning into 'DeepFake-Detector'...\n",
            "remote: Enumerating objects: 24, done.\u001b[K\n",
            "remote: Total 24 (delta 0), reused 0 (delta 0), pack-reused 24 (from 1)\u001b[K\n",
            "Unpacking objects: 100% (24/24), 9.05 KiB | 386.00 KiB/s, done.\n",
            "Cloning into 'DeepFake_Detection'...\n",
            "remote: Enumerating objects: 88, done.\u001b[K\n",
            "remote: Counting objects: 100% (88/88), done.\u001b[K\n",
            "remote: Compressing objects: 100% (72/72), done.\u001b[K\n",
            "remote: Total 88 (delta 18), reused 1 (delta 0), pack-reused 0 (from 0)\u001b[K\n",
            "Receiving objects: 100% (88/88), 42.22 MiB | 14.60 MiB/s, done.\n",
            "Resolving deltas: 100% (18/18), done.\n",
            "Cloning into 'GenConViT'...\n",
            "remote: Enumerating objects: 455, done.\u001b[K\n",
            "remote: Counting objects: 100% (17/17), done.\u001b[K\n",
            "remote: Compressing objects: 100% (4/4), done.\u001b[K\n",
            "remote: Total 455 (delta 13), reused 13 (delta 13), pack-reused 438 (from 1)\u001b[K\n",
            "Receiving objects: 100% (455/455), 60.77 MiB | 22.66 MiB/s, done.\n",
            "Resolving deltas: 100% (218/218), done.\n",
            "Cloning into 'DeepFake-Adapter'...\n",
            "remote: Enumerating objects: 85, done.\u001b[K\n",
            "remote: Counting objects: 100% (85/85), done.\u001b[K\n",
            "remote: Compressing objects: 100% (68/68), done.\u001b[K\n",
            "remote: Total 85 (delta 19), reused 64 (delta 12), pack-reused 0 (from 0)\u001b[K\n",
            "Receiving objects: 100% (85/85), 2.09 MiB | 7.71 MiB/s, done.\n",
            "Resolving deltas: 100% (19/19), done.\n",
            "Cloning into 'Multimodal-Model-for-Deepfake-Detection'...\n",
            "remote: Enumerating objects: 73, done.\u001b[K\n",
            "remote: Counting objects: 100% (3/3), done.\u001b[K\n",
            "remote: Compressing objects: 100% (3/3), done.\u001b[K\n",
            "remote: Total 73 (delta 0), reused 1 (delta 0), pack-reused 70 (from 2)\u001b[K\n",
            "Receiving objects: 100% (73/73), 49.06 MiB | 12.86 MiB/s, done.\n",
            "Resolving deltas: 100% (4/4), done.\n",
            "Updating files: 100% (54/54), done.\n"
          ]
        }
      ]
    },
    {
      "cell_type": "code",
      "source": [
        "# Install required packages\n",
        "!pip install -q tensorflow keras transformers torch torchvision onnxruntime opencv-python pandas scikit-learn matplotlib tqdm\n"
      ],
      "metadata": {
        "colab": {
          "base_uri": "https://localhost:8080/"
        },
        "id": "55jnbTGdikPq",
        "outputId": "17cc32f0-54b6-4617-d4d6-e9a4cc0f4156"
      },
      "execution_count": 2,
      "outputs": [
        {
          "output_type": "stream",
          "name": "stdout",
          "text": [
            "\u001b[2K   \u001b[90m━━━━━━━━━━━━━━━━━━━━━━━━━━━━━━━━━━━━━━━━\u001b[0m \u001b[32m363.4/363.4 MB\u001b[0m \u001b[31m1.4 MB/s\u001b[0m eta \u001b[36m0:00:00\u001b[0m\n",
            "\u001b[2K   \u001b[90m━━━━━━━━━━━━━━━━━━━━━━━━━━━━━━━━━━━━━━━━\u001b[0m \u001b[32m13.8/13.8 MB\u001b[0m \u001b[31m15.8 MB/s\u001b[0m eta \u001b[36m0:00:00\u001b[0m\n",
            "\u001b[2K   \u001b[90m━━━━━━━━━━━━━━━━━━━━━━━━━━━━━━━━━━━━━━━━\u001b[0m \u001b[32m24.6/24.6 MB\u001b[0m \u001b[31m19.4 MB/s\u001b[0m eta \u001b[36m0:00:00\u001b[0m\n",
            "\u001b[2K   \u001b[90m━━━━━━━━━━━━━━━━━━━━━━━━━━━━━━━━━━━━━━━━\u001b[0m \u001b[32m883.7/883.7 kB\u001b[0m \u001b[31m15.9 MB/s\u001b[0m eta \u001b[36m0:00:00\u001b[0m\n",
            "\u001b[2K   \u001b[90m━━━━━━━━━━━━━━━━━━━━━━━━━━━━━━━━━━━━━━━━\u001b[0m \u001b[32m664.8/664.8 MB\u001b[0m \u001b[31m2.4 MB/s\u001b[0m eta \u001b[36m0:00:00\u001b[0m\n",
            "\u001b[2K   \u001b[90m━━━━━━━━━━━━━━━━━━━━━━━━━━━━━━━━━━━━━━━━\u001b[0m \u001b[32m211.5/211.5 MB\u001b[0m \u001b[31m6.1 MB/s\u001b[0m eta \u001b[36m0:00:00\u001b[0m\n",
            "\u001b[2K   \u001b[90m━━━━━━━━━━━━━━━━━━━━━━━━━━━━━━━━━━━━━━━━\u001b[0m \u001b[32m56.3/56.3 MB\u001b[0m \u001b[31m9.3 MB/s\u001b[0m eta \u001b[36m0:00:00\u001b[0m\n",
            "\u001b[2K   \u001b[90m━━━━━━━━━━━━━━━━━━━━━━━━━━━━━━━━━━━━━━━━\u001b[0m \u001b[32m127.9/127.9 MB\u001b[0m \u001b[31m6.3 MB/s\u001b[0m eta \u001b[36m0:00:00\u001b[0m\n",
            "\u001b[2K   \u001b[90m━━━━━━━━━━━━━━━━━━━━━━━━━━━━━━━━━━━━━━━━\u001b[0m \u001b[32m207.5/207.5 MB\u001b[0m \u001b[31m5.7 MB/s\u001b[0m eta \u001b[36m0:00:00\u001b[0m\n",
            "\u001b[2K   \u001b[90m━━━━━━━━━━━━━━━━━━━━━━━━━━━━━━━━━━━━━━━━\u001b[0m \u001b[32m21.1/21.1 MB\u001b[0m \u001b[31m21.0 MB/s\u001b[0m eta \u001b[36m0:00:00\u001b[0m\n",
            "\u001b[2K   \u001b[90m━━━━━━━━━━━━━━━━━━━━━━━━━━━━━━━━━━━━━━━━\u001b[0m \u001b[32m16.4/16.4 MB\u001b[0m \u001b[31m21.0 MB/s\u001b[0m eta \u001b[36m0:00:00\u001b[0m\n",
            "\u001b[2K   \u001b[90m━━━━━━━━━━━━━━━━━━━━━━━━━━━━━━━━━━━━━━━━\u001b[0m \u001b[32m46.0/46.0 kB\u001b[0m \u001b[31m3.0 MB/s\u001b[0m eta \u001b[36m0:00:00\u001b[0m\n",
            "\u001b[2K   \u001b[90m━━━━━━━━━━━━━━━━━━━━━━━━━━━━━━━━━━━━━━━━\u001b[0m \u001b[32m86.8/86.8 kB\u001b[0m \u001b[31m6.0 MB/s\u001b[0m eta \u001b[36m0:00:00\u001b[0m\n",
            "\u001b[?25h"
          ]
        }
      ]
    },
    {
      "cell_type": "code",
      "source": [
        "import os\n",
        "import numpy as np\n",
        "import pandas as pd\n",
        "from PIL import Image\n",
        "from tqdm import tqdm\n",
        "import matplotlib.pyplot as plt\n",
        "from sklearn.metrics import classification_report, confusion_matrix, ConfusionMatrixDisplay\n",
        "\n",
        "import tensorflow as tf\n",
        "from tensorflow.keras.models import load_model\n",
        "from tensorflow.keras.preprocessing import image\n",
        "\n",
        "import torch\n",
        "from transformers import ViTForImageClassification, ViTImageProcessor\n",
        "import onnxruntime as ort\n",
        "import cv2\n"
      ],
      "metadata": {
        "id": "Fnd0TOVDim4m"
      },
      "execution_count": 3,
      "outputs": []
    },
    {
      "cell_type": "code",
      "source": [
        "\n",
        "\n",
        "\n",
        "# import zipfile\n",
        "# zip_path = \"/content/Test.zip\"  # <-- Your uploaded zip path\n",
        "# with zipfile.ZipFile(zip_path, 'r') as zip_ref:\n",
        "#     zip_ref.extractall(\"/content/Test\")\n",
        "\n",
        "#     real_path = \"/content/Test/Test/Real\"\n",
        "# fake_path = \"/content/Test/Test/Fake\"\n",
        "\n",
        "# image_paths = []\n",
        "# labels = []\n",
        "\n",
        "# for path, label in [(real_path, \"Real\"), (fake_path, \"Fake\")]:\n",
        "#     for file in os.listdir(path):\n",
        "#         if file.lower().endswith(('jpg', 'jpeg', 'png')):\n",
        "#             image_paths.append(os.path.join(path, file))\n",
        "#             labels.append(label)\n",
        "# df = pd.DataFrame({'filepath': image_paths, 'label': labels})\n",
        "\n",
        "\n",
        "\n",
        "import zipfile\n",
        "import os\n",
        "import pandas as pd\n",
        "\n",
        "zip_path = \"/content/Test.zip\"  # Your uploaded zip file path\n",
        "with zipfile.ZipFile(zip_path, 'r') as zip_ref:\n",
        "    zip_ref.extractall(\"/content/Test\")\n",
        "\n",
        "real_path = \"/content/Test/Test/Real\"\n",
        "fake_path = \"/content/Test/Test/Fake\"\n",
        "\n",
        "image_paths = []\n",
        "labels = []\n",
        "\n",
        "# Only take first 10 real images for testing\n",
        "real_images = [f for f in os.listdir(real_path) if f.lower().endswith(('jpg', 'jpeg', 'png'))][:10]\n",
        "\n",
        "for file in real_images:\n",
        "    image_paths.append(os.path.join(real_path, file))\n",
        "    labels.append(\"Real\")\n",
        "\n",
        "# If you want, you can also test on a few fake images by similar slicing:\n",
        "# fake_images = [f for f in os.listdir(fake_path) if f.lower().endswith(('jpg', 'jpeg', 'png'))][:10]\n",
        "# for file in fake_images:\n",
        "#     image_paths.append(os.path.join(fake_path, file))\n",
        "#     labels.append(\"Fake\")\n",
        "\n",
        "df = pd.DataFrame({'filepath': image_paths, 'label': labels})\n",
        "\n",
        "print(df)\n"
      ],
      "metadata": {
        "colab": {
          "base_uri": "https://localhost:8080/"
        },
        "id": "wUSLPO2Zise1",
        "outputId": "ef9eb1fc-ba67-4b21-84f2-6e018ce8e859"
      },
      "execution_count": 5,
      "outputs": [
        {
          "output_type": "stream",
          "name": "stdout",
          "text": [
            "                               filepath label\n",
            "0  /content/Test/Test/Real/real_147.jpg  Real\n",
            "1  /content/Test/Test/Real/real_160.jpg  Real\n",
            "2  /content/Test/Test/Real/real_195.jpg  Real\n",
            "3  /content/Test/Test/Real/real_136.jpg  Real\n",
            "4  /content/Test/Test/Real/real_196.jpg  Real\n",
            "5  /content/Test/Test/Real/real_113.jpg  Real\n",
            "6  /content/Test/Test/Real/real_127.jpg  Real\n",
            "7  /content/Test/Test/Real/real_176.jpg  Real\n",
            "8  /content/Test/Test/Real/real_140.jpg  Real\n",
            "9  /content/Test/Test/Real/real_152.jpg  Real\n"
          ]
        }
      ]
    },
    {
      "cell_type": "code",
      "source": [
        "cnn_model = load_model('DeepFake-Detector/cnn_model.h5')\n",
        "\n",
        "def predict_with_cnn(df):\n",
        "    y_pred = []\n",
        "    for path in tqdm(df[\"filepath\"], desc=\"CNN Predictions\"):\n",
        "        img = image.load_img(path, target_size=(128, 128))\n",
        "        img_array = image.img_to_array(img) / 255.0\n",
        "        img_array = np.expand_dims(img_array, axis=0)\n",
        "        prediction = cnn_model.predict(img_array, verbose=0)[0][0]\n",
        "        y_pred.append(1 if prediction >= 0.5 else 0)\n",
        "    return y_pred\n"
      ],
      "metadata": {
        "colab": {
          "base_uri": "https://localhost:8080/"
        },
        "id": "2opJOrBJixxA",
        "outputId": "6568d248-b4b1-4e7f-bd55-2047d6e451be"
      },
      "execution_count": 6,
      "outputs": [
        {
          "output_type": "stream",
          "name": "stderr",
          "text": [
            "/usr/local/lib/python3.11/dist-packages/keras/src/layers/convolutional/base_conv.py:107: UserWarning: Do not pass an `input_shape`/`input_dim` argument to a layer. When using Sequential models, prefer using an `Input(shape)` object as the first layer in the model instead.\n",
            "  super().__init__(activity_regularizer=activity_regularizer, **kwargs)\n",
            "/usr/local/lib/python3.11/dist-packages/keras/src/optimizers/base_optimizer.py:86: UserWarning: Argument `decay` is no longer supported and will be ignored.\n",
            "  warnings.warn(\n",
            "WARNING:absl:Compiled the loaded model, but the compiled metrics have yet to be built. `model.compile_metrics` will be empty until you train or evaluate the model.\n",
            "WARNING:absl:Error in loading the saved optimizer state. As a result, your model is starting with a freshly initialized optimizer.\n"
          ]
        }
      ]
    },
    {
      "cell_type": "code",
      "source": [
        "vit_model = ViTForImageClassification.from_pretrained(\"prithivMLmods/Deep-Fake-Detector-Model\")\n",
        "vit_processor = ViTImageProcessor.from_pretrained(\"prithivMLmods/Deep-Fake-Detector-Model\")\n",
        "\n",
        "def predict_with_vit(df):\n",
        "    y_pred = []\n",
        "    for path in tqdm(df[\"filepath\"], desc=\"ViT Predictions\"):\n",
        "        img = Image.open(path).convert(\"RGB\")\n",
        "        inputs = vit_processor(images=img, return_tensors=\"pt\")\n",
        "        with torch.no_grad():\n",
        "            logits = vit_model(**inputs).logits\n",
        "            pred = torch.argmax(logits, dim=1).item()\n",
        "            y_pred.append(pred)\n",
        "    return y_pred\n"
      ],
      "metadata": {
        "colab": {
          "base_uri": "https://localhost:8080/",
          "height": 272,
          "referenced_widgets": [
            "8cfaff31837c4a5fa6eedc6af82ab64f",
            "3056dd34f9be4a60b71f9ad7d9e0ae65",
            "a5455fbc2d874f329295be62455d8406",
            "9e9cf8a61989420ab534c7668388dd05",
            "259f633f12a845829793b1afd830ba6f",
            "ef93f4543a4d43cebf1a15b248301121",
            "5134a8741828423ab585f00008357486",
            "d9a4435788e74062bba3f1175e7fd37d",
            "33eca8909c204fad8ec47f69c6e462ff",
            "d9a88f874ed142fd8e5b7d5feec53bd1",
            "ec1d893413fa479f9c5886f1dd7f7d3a",
            "463d4aa4ee1b4784abee96710f22067e",
            "46f7a4d50dfe445288f4744957e84cf5",
            "b590e94f0af6414ebf8e9988dfe997b0",
            "6bb7cee9ead94937b2c1ad3663d19d54",
            "3837a2fd5c4540c49072af92d88df10e",
            "ddde62001e904d77af13e96e418c9aca",
            "d5dce08f18724194a4bf9977dd0493b9",
            "3debaad98684472a89cef35fac95e3ab",
            "2fa06f2051914d1c97c9f877dbf90dc0",
            "655d5c1a45a3477192e11b5af2d8efb6",
            "abfbb2ce574344339b7825350164c0d5",
            "ad7034a71d8f4a16b91dfa41a3875397",
            "b07ca74a2f344d2a9ab744c8b7249cd3",
            "a49dd509ea6444e69e2773fe25eaad8b",
            "da74cc4992934c4fab6386d126f80ce3",
            "a4bfe24d8d00480caf754560c7b7d4cb",
            "927b8056bd9e48d9ab50b15f9fa48752",
            "1e29eba840b4400d8012c2956cbd6f89",
            "c12df88bf0a24a70814944738634ad4e",
            "6114ac49bfc44a50836e6679d1feb135",
            "8a9a4932118844438a8d327ddc4fa984",
            "e3ebf33764634dcfa4fa913038f31f70"
          ]
        },
        "id": "A-JwKkOeizIO",
        "outputId": "9b3ed56f-40af-48da-f82e-2328283e53f7"
      },
      "execution_count": 7,
      "outputs": [
        {
          "output_type": "stream",
          "name": "stderr",
          "text": [
            "/usr/local/lib/python3.11/dist-packages/huggingface_hub/utils/_auth.py:94: UserWarning: \n",
            "The secret `HF_TOKEN` does not exist in your Colab secrets.\n",
            "To authenticate with the Hugging Face Hub, create a token in your settings tab (https://huggingface.co/settings/tokens), set it as secret in your Google Colab and restart your session.\n",
            "You will be able to reuse this secret in all of your notebooks.\n",
            "Please note that authentication is recommended but still optional to access public models or datasets.\n",
            "  warnings.warn(\n"
          ]
        },
        {
          "output_type": "display_data",
          "data": {
            "text/plain": [
              "config.json:   0%|          | 0.00/724 [00:00<?, ?B/s]"
            ],
            "application/vnd.jupyter.widget-view+json": {
              "version_major": 2,
              "version_minor": 0,
              "model_id": "8cfaff31837c4a5fa6eedc6af82ab64f"
            }
          },
          "metadata": {}
        },
        {
          "output_type": "stream",
          "name": "stderr",
          "text": [
            "Xet Storage is enabled for this repo, but the 'hf_xet' package is not installed. Falling back to regular HTTP download. For better performance, install the package with: `pip install huggingface_hub[hf_xet]` or `pip install hf_xet`\n",
            "WARNING:huggingface_hub.file_download:Xet Storage is enabled for this repo, but the 'hf_xet' package is not installed. Falling back to regular HTTP download. For better performance, install the package with: `pip install huggingface_hub[hf_xet]` or `pip install hf_xet`\n"
          ]
        },
        {
          "output_type": "display_data",
          "data": {
            "text/plain": [
              "model.safetensors:   0%|          | 0.00/343M [00:00<?, ?B/s]"
            ],
            "application/vnd.jupyter.widget-view+json": {
              "version_major": 2,
              "version_minor": 0,
              "model_id": "463d4aa4ee1b4784abee96710f22067e"
            }
          },
          "metadata": {}
        },
        {
          "output_type": "display_data",
          "data": {
            "text/plain": [
              "preprocessor_config.json:   0%|          | 0.00/351 [00:00<?, ?B/s]"
            ],
            "application/vnd.jupyter.widget-view+json": {
              "version_major": 2,
              "version_minor": 0,
              "model_id": "ad7034a71d8f4a16b91dfa41a3875397"
            }
          },
          "metadata": {}
        }
      ]
    },
    {
      "cell_type": "code",
      "source": [
        "# # Assuming the model is saved as 'model.h5' in the cloned repository\n",
        "# lstm_model = load_model('/content/DeepFake-Detector/cnn_model.h5')\n",
        "\n",
        "# def predict_with_lstm(df):\n",
        "#     y_pred = []\n",
        "#     for path in tqdm(df[\"filepath\"], desc=\"LSTM Predictions\"):\n",
        "#         img = image.load_img(path, target_size=(299, 299))\n",
        "#         img_array = image.img_to_array(img) / 255.0\n",
        "#         img_array = np.expand_dims(img_array, axis=0)\n",
        "#         prediction = lstm_model.predict(img_array, verbose=0)[0][0]\n",
        "#         y_pred.append(1 if prediction >= 0.5 else 0)\n",
        "#     return y_pred\n"
      ],
      "metadata": {
        "colab": {
          "base_uri": "https://localhost:8080/"
        },
        "id": "0ivDdw_li0dm",
        "outputId": "2c555e8a-d528-4b7e-ee3e-f816c7443a83"
      },
      "execution_count": 39,
      "outputs": [
        {
          "output_type": "stream",
          "name": "stderr",
          "text": [
            "/usr/local/lib/python3.11/dist-packages/keras/src/layers/convolutional/base_conv.py:107: UserWarning: Do not pass an `input_shape`/`input_dim` argument to a layer. When using Sequential models, prefer using an `Input(shape)` object as the first layer in the model instead.\n",
            "  super().__init__(activity_regularizer=activity_regularizer, **kwargs)\n",
            "/usr/local/lib/python3.11/dist-packages/keras/src/optimizers/base_optimizer.py:86: UserWarning: Argument `decay` is no longer supported and will be ignored.\n",
            "  warnings.warn(\n",
            "WARNING:absl:Compiled the loaded model, but the compiled metrics have yet to be built. `model.compile_metrics` will be empty until you train or evaluate the model.\n",
            "WARNING:absl:Error in loading the saved optimizer state. As a result, your model is starting with a freshly initialized optimizer.\n"
          ]
        }
      ]
    },
    {
      "cell_type": "code",
      "source": [
        "# Assuming the model is saved as 'genconvit_model.pth' in the cloned repository\n",
        "# Load the model architecture and weights accordingly\n",
        "# Placeholder for demonstration\n",
        "\n",
        "def predict_with_genconvit(df):\n",
        "    y_pred = []\n",
        "    for path in tqdm(df[\"filepath\"], desc=\"GenConViT Predictions\"):\n",
        "        # Implement preprocessing and prediction\n",
        "        y_pred.append(0)  # Placeholder\n",
        "    return y_pred\n"
      ],
      "metadata": {
        "id": "dxdVC8_Ei1oC"
      },
      "execution_count": 8,
      "outputs": []
    },
    {
      "cell_type": "code",
      "source": [
        "# Assuming the model is saved as 'adapter_model.pth' in the cloned repository\n",
        "# Load the model architecture and weights accordingly\n",
        "# Placeholder for demonstration\n",
        "\n",
        "def predict_with_adapter(df):\n",
        "    y_pred = []\n",
        "    for path in tqdm(df[\"filepath\"], desc=\"Adapter Predictions\"):\n",
        "        # Implement preprocessing and prediction\n",
        "        y_pred.append(0)  # Placeholder\n",
        "    return y_pred\n"
      ],
      "metadata": {
        "id": "4Rzj5UGYi2uj"
      },
      "execution_count": 9,
      "outputs": []
    },
    {
      "cell_type": "code",
      "source": [
        "# # Assuming the model is saved as 'multimodal_model.pth' in the cloned repository\n",
        "# # Load the model architecture and weights accordingly\n",
        "# # Placeholder for demonstration\n",
        "\n",
        "# def predict_with_multimodal(df):\n",
        "#     y_pred = []\n",
        "#     for path in tqdm(df[\"filepath\"], desc=\"Multimodal Predictions\"):\n",
        "#         # Implement preprocessing and prediction\n",
        "#         y_pred.append(0)  # Placeholder\n",
        "#     return y_pred\n"
      ],
      "metadata": {
        "id": "k_h5EYVZi4GB"
      },
      "execution_count": 11,
      "outputs": []
    },
    {
      "cell_type": "code",
      "source": [
        "def evaluate_model(model_name, y_true, y_pred):\n",
        "    print(f\"📈 Evaluation: {model_name}\")\n",
        "    print(classification_report(y_true, y_pred, target_names=[\"Real\", \"Fake\"]))\n",
        "\n",
        "    cm = confusion_matrix(y_true, y_pred)\n",
        "    disp = ConfusionMatrixDisplay(cm, display_labels=[\"Real\", \"Fake\"])\n",
        "    disp.plot(cmap=plt.cm.Blues)\n",
        "    plt.title(f\"Confusion Matrix - {model_name}\")\n",
        "    plt.show()\n"
      ],
      "metadata": {
        "id": "9tzWGBeti5mq"
      },
      "execution_count": 10,
      "outputs": []
    },
    {
      "cell_type": "code",
      "source": [
        "from sklearn.metrics import classification_report\n",
        "\n",
        "def evaluate_model(name, y_true, y_pred):\n",
        "    print(f\"📈 Evaluation: {name}\")\n",
        "    print(classification_report(y_true, y_pred, labels=[0,1]))\n"
      ],
      "metadata": {
        "id": "h2Iy3TyYmIJc"
      },
      "execution_count": 11,
      "outputs": []
    },
    {
      "cell_type": "code",
      "source": [
        "# Map string labels to numeric labels\n",
        "label_map = {'Real': 0, 'Fake': 1}\n",
        "df['label_num'] = df['label'].map(label_map)\n"
      ],
      "metadata": {
        "id": "U7ddoF4PlW1E"
      },
      "execution_count": 12,
      "outputs": []
    },
    {
      "cell_type": "code",
      "source": [
        "model_results = {}\n",
        "\n",
        "# CNN Model\n",
        "y_pred_cnn = predict_with_cnn(df)\n",
        "evaluate_model(\"CNN Model\", df['label_num'], y_pred_cnn)\n",
        "model_results[\"CNN\"] = y_pred_cnn\n",
        "\n",
        "# ViT Model\n",
        "y_pred_vit = predict_with_vit(df)\n",
        "evaluate_model(\"Vision Transformer Model\", df['label_num'], y_pred_vit)\n",
        "model_results[\"ViT\"] = y_pred_vit\n",
        "\n",
        "\n",
        "# GenConViT Model\n",
        "y_pred_genconvit = predict_with_genconvit(df)\n",
        "evaluate_model(\"GenConViT Model\", df['label_num'], y_pred_genconvit)\n",
        "model_results[\"GenConViT\"] = y_pred_genconvit\n",
        "\n",
        "# DeepFake-Adapter Model\n",
        "y_pred_adapter = predict_with_adapter(df)\n",
        "evaluate_model(\"DeepFake-Adapter Model\", df['label_num'], y_pred_adapter)\n",
        "model_results[\"Adapter\"] = y_pred_adapter\n",
        "\n"
      ],
      "metadata": {
        "colab": {
          "base_uri": "https://localhost:8080/"
        },
        "id": "7Vna-SZji7VH",
        "outputId": "07beb530-0feb-4922-cdb8-c1be21d70279"
      },
      "execution_count": 14,
      "outputs": [
        {
          "output_type": "stream",
          "name": "stderr",
          "text": [
            "CNN Predictions: 100%|██████████| 10/10 [00:02<00:00,  3.65it/s]\n",
            "/usr/local/lib/python3.11/dist-packages/sklearn/metrics/_classification.py:1565: UndefinedMetricWarning: Recall is ill-defined and being set to 0.0 in labels with no true samples. Use `zero_division` parameter to control this behavior.\n",
            "  _warn_prf(average, modifier, f\"{metric.capitalize()} is\", len(result))\n",
            "/usr/local/lib/python3.11/dist-packages/sklearn/metrics/_classification.py:1565: UndefinedMetricWarning: Recall is ill-defined and being set to 0.0 in labels with no true samples. Use `zero_division` parameter to control this behavior.\n",
            "  _warn_prf(average, modifier, f\"{metric.capitalize()} is\", len(result))\n",
            "/usr/local/lib/python3.11/dist-packages/sklearn/metrics/_classification.py:1565: UndefinedMetricWarning: Recall is ill-defined and being set to 0.0 in labels with no true samples. Use `zero_division` parameter to control this behavior.\n",
            "  _warn_prf(average, modifier, f\"{metric.capitalize()} is\", len(result))\n"
          ]
        },
        {
          "output_type": "stream",
          "name": "stdout",
          "text": [
            "📈 Evaluation: CNN Model\n",
            "              precision    recall  f1-score   support\n",
            "\n",
            "           0       1.00      0.60      0.75        10\n",
            "           1       0.00      0.00      0.00         0\n",
            "\n",
            "    accuracy                           0.60        10\n",
            "   macro avg       0.50      0.30      0.38        10\n",
            "weighted avg       1.00      0.60      0.75        10\n",
            "\n"
          ]
        },
        {
          "output_type": "stream",
          "name": "stderr",
          "text": [
            "ViT Predictions: 100%|██████████| 10/10 [00:10<00:00,  1.03s/it]\n",
            "/usr/local/lib/python3.11/dist-packages/sklearn/metrics/_classification.py:1565: UndefinedMetricWarning: Recall is ill-defined and being set to 0.0 in labels with no true samples. Use `zero_division` parameter to control this behavior.\n",
            "  _warn_prf(average, modifier, f\"{metric.capitalize()} is\", len(result))\n",
            "/usr/local/lib/python3.11/dist-packages/sklearn/metrics/_classification.py:1565: UndefinedMetricWarning: Recall is ill-defined and being set to 0.0 in labels with no true samples. Use `zero_division` parameter to control this behavior.\n",
            "  _warn_prf(average, modifier, f\"{metric.capitalize()} is\", len(result))\n",
            "/usr/local/lib/python3.11/dist-packages/sklearn/metrics/_classification.py:1565: UndefinedMetricWarning: Recall is ill-defined and being set to 0.0 in labels with no true samples. Use `zero_division` parameter to control this behavior.\n",
            "  _warn_prf(average, modifier, f\"{metric.capitalize()} is\", len(result))\n"
          ]
        },
        {
          "output_type": "stream",
          "name": "stdout",
          "text": [
            "📈 Evaluation: Vision Transformer Model\n",
            "              precision    recall  f1-score   support\n",
            "\n",
            "           0       1.00      0.80      0.89        10\n",
            "           1       0.00      0.00      0.00         0\n",
            "\n",
            "    accuracy                           0.80        10\n",
            "   macro avg       0.50      0.40      0.44        10\n",
            "weighted avg       1.00      0.80      0.89        10\n",
            "\n"
          ]
        },
        {
          "output_type": "stream",
          "name": "stderr",
          "text": [
            "GenConViT Predictions: 100%|██████████| 10/10 [00:00<00:00, 45392.90it/s]\n",
            "/usr/local/lib/python3.11/dist-packages/sklearn/metrics/_classification.py:1565: UndefinedMetricWarning: Precision is ill-defined and being set to 0.0 in labels with no predicted samples. Use `zero_division` parameter to control this behavior.\n",
            "  _warn_prf(average, modifier, f\"{metric.capitalize()} is\", len(result))\n",
            "/usr/local/lib/python3.11/dist-packages/sklearn/metrics/_classification.py:1565: UndefinedMetricWarning: Recall is ill-defined and being set to 0.0 in labels with no true samples. Use `zero_division` parameter to control this behavior.\n",
            "  _warn_prf(average, modifier, f\"{metric.capitalize()} is\", len(result))\n",
            "/usr/local/lib/python3.11/dist-packages/sklearn/metrics/_classification.py:1565: UndefinedMetricWarning: F-score is ill-defined and being set to 0.0 in labels with no true nor predicted samples. Use `zero_division` parameter to control this behavior.\n",
            "  _warn_prf(average, modifier, f\"{metric.capitalize()} is\", len(result))\n",
            "/usr/local/lib/python3.11/dist-packages/sklearn/metrics/_classification.py:1565: UndefinedMetricWarning: Precision is ill-defined and being set to 0.0 in labels with no predicted samples. Use `zero_division` parameter to control this behavior.\n",
            "  _warn_prf(average, modifier, f\"{metric.capitalize()} is\", len(result))\n",
            "/usr/local/lib/python3.11/dist-packages/sklearn/metrics/_classification.py:1565: UndefinedMetricWarning: Recall is ill-defined and being set to 0.0 in labels with no true samples. Use `zero_division` parameter to control this behavior.\n",
            "  _warn_prf(average, modifier, f\"{metric.capitalize()} is\", len(result))\n",
            "/usr/local/lib/python3.11/dist-packages/sklearn/metrics/_classification.py:1565: UndefinedMetricWarning: F-score is ill-defined and being set to 0.0 in labels with no true nor predicted samples. Use `zero_division` parameter to control this behavior.\n",
            "  _warn_prf(average, modifier, f\"{metric.capitalize()} is\", len(result))\n",
            "/usr/local/lib/python3.11/dist-packages/sklearn/metrics/_classification.py:1565: UndefinedMetricWarning: Precision is ill-defined and being set to 0.0 in labels with no predicted samples. Use `zero_division` parameter to control this behavior.\n",
            "  _warn_prf(average, modifier, f\"{metric.capitalize()} is\", len(result))\n",
            "/usr/local/lib/python3.11/dist-packages/sklearn/metrics/_classification.py:1565: UndefinedMetricWarning: Recall is ill-defined and being set to 0.0 in labels with no true samples. Use `zero_division` parameter to control this behavior.\n",
            "  _warn_prf(average, modifier, f\"{metric.capitalize()} is\", len(result))\n",
            "/usr/local/lib/python3.11/dist-packages/sklearn/metrics/_classification.py:1565: UndefinedMetricWarning: F-score is ill-defined and being set to 0.0 in labels with no true nor predicted samples. Use `zero_division` parameter to control this behavior.\n",
            "  _warn_prf(average, modifier, f\"{metric.capitalize()} is\", len(result))\n"
          ]
        },
        {
          "output_type": "stream",
          "name": "stdout",
          "text": [
            "📈 Evaluation: GenConViT Model\n",
            "              precision    recall  f1-score   support\n",
            "\n",
            "           0       1.00      1.00      1.00        10\n",
            "           1       0.00      0.00      0.00         0\n",
            "\n",
            "    accuracy                           1.00        10\n",
            "   macro avg       0.50      0.50      0.50        10\n",
            "weighted avg       1.00      1.00      1.00        10\n",
            "\n"
          ]
        },
        {
          "output_type": "stream",
          "name": "stderr",
          "text": [
            "Adapter Predictions: 100%|██████████| 10/10 [00:00<00:00, 47716.77it/s]"
          ]
        },
        {
          "output_type": "stream",
          "name": "stdout",
          "text": [
            "📈 Evaluation: DeepFake-Adapter Model\n",
            "              precision    recall  f1-score   support\n",
            "\n",
            "           0       1.00      1.00      1.00        10\n",
            "           1       0.00      0.00      0.00         0\n",
            "\n",
            "    accuracy                           1.00        10\n",
            "   macro avg       0.50      0.50      0.50        10\n",
            "weighted avg       1.00      1.00      1.00        10\n",
            "\n"
          ]
        },
        {
          "output_type": "stream",
          "name": "stderr",
          "text": [
            "\n",
            "/usr/local/lib/python3.11/dist-packages/sklearn/metrics/_classification.py:1565: UndefinedMetricWarning: Precision is ill-defined and being set to 0.0 in labels with no predicted samples. Use `zero_division` parameter to control this behavior.\n",
            "  _warn_prf(average, modifier, f\"{metric.capitalize()} is\", len(result))\n",
            "/usr/local/lib/python3.11/dist-packages/sklearn/metrics/_classification.py:1565: UndefinedMetricWarning: Recall is ill-defined and being set to 0.0 in labels with no true samples. Use `zero_division` parameter to control this behavior.\n",
            "  _warn_prf(average, modifier, f\"{metric.capitalize()} is\", len(result))\n",
            "/usr/local/lib/python3.11/dist-packages/sklearn/metrics/_classification.py:1565: UndefinedMetricWarning: F-score is ill-defined and being set to 0.0 in labels with no true nor predicted samples. Use `zero_division` parameter to control this behavior.\n",
            "  _warn_prf(average, modifier, f\"{metric.capitalize()} is\", len(result))\n",
            "/usr/local/lib/python3.11/dist-packages/sklearn/metrics/_classification.py:1565: UndefinedMetricWarning: Precision is ill-defined and being set to 0.0 in labels with no predicted samples. Use `zero_division` parameter to control this behavior.\n",
            "  _warn_prf(average, modifier, f\"{metric.capitalize()} is\", len(result))\n",
            "/usr/local/lib/python3.11/dist-packages/sklearn/metrics/_classification.py:1565: UndefinedMetricWarning: Recall is ill-defined and being set to 0.0 in labels with no true samples. Use `zero_division` parameter to control this behavior.\n",
            "  _warn_prf(average, modifier, f\"{metric.capitalize()} is\", len(result))\n",
            "/usr/local/lib/python3.11/dist-packages/sklearn/metrics/_classification.py:1565: UndefinedMetricWarning: F-score is ill-defined and being set to 0.0 in labels with no true nor predicted samples. Use `zero_division` parameter to control this behavior.\n",
            "  _warn_prf(average, modifier, f\"{metric.capitalize()} is\", len(result))\n",
            "/usr/local/lib/python3.11/dist-packages/sklearn/metrics/_classification.py:1565: UndefinedMetricWarning: Precision is ill-defined and being set to 0.0 in labels with no predicted samples. Use `zero_division` parameter to control this behavior.\n",
            "  _warn_prf(average, modifier, f\"{metric.capitalize()} is\", len(result))\n",
            "/usr/local/lib/python3.11/dist-packages/sklearn/metrics/_classification.py:1565: UndefinedMetricWarning: Recall is ill-defined and being set to 0.0 in labels with no true samples. Use `zero_division` parameter to control this behavior.\n",
            "  _warn_prf(average, modifier, f\"{metric.capitalize()} is\", len(result))\n",
            "/usr/local/lib/python3.11/dist-packages/sklearn/metrics/_classification.py:1565: UndefinedMetricWarning: F-score is ill-defined and being set to 0.0 in labels with no true nor predicted samples. Use `zero_division` parameter to control this behavior.\n",
            "  _warn_prf(average, modifier, f\"{metric.capitalize()} is\", len(result))\n"
          ]
        }
      ]
    },
    {
      "cell_type": "code",
      "source": [
        "for model_name, predictions in model_results.items():\n",
        "    accuracy = np.mean(df['label_num'] == predictions)\n",
        "    print(f\"{model_name} Accuracy: {accuracy:.2%}\")\n"
      ],
      "metadata": {
        "colab": {
          "base_uri": "https://localhost:8080/"
        },
        "id": "6IwWAed_kRq4",
        "outputId": "c302b366-92cc-4b46-8559-f377a93abf6e"
      },
      "execution_count": 35,
      "outputs": [
        {
          "output_type": "stream",
          "name": "stdout",
          "text": [
            "CNN Accuracy: 60.00%\n",
            "ViT Accuracy: 80.00%\n",
            "GenConViT Accuracy: 100.00%\n",
            "Adapter Accuracy: 100.00%\n"
          ]
        }
      ]
    },
    {
      "cell_type": "markdown",
      "source": [
        "# all in one"
      ],
      "metadata": {
        "id": "PQziPAdt2wjE"
      }
    },
    {
      "cell_type": "code",
      "source": [
        "# Clone necessary repositories\n",
        "!git clone https://huggingface.co/MaanVad3r/DeepFake-Detector\n",
        "!git clone https://github.com/Balaji-Kartheek/DeepFake_Detection.git\n",
        "!git clone https://github.com/erprogs/GenConViT.git\n",
        "!git clone https://github.com/rshaojimmy/DeepFake-Adapter.git\n",
        "\n",
        "# Install dependencies\n",
        "!pip install -q tensorflow keras transformers torch torchvision onnxruntime opencv-python pandas scikit-learn matplotlib tqdm\n",
        "\n",
        "# Imports\n",
        "import os\n",
        "import numpy as np\n",
        "import pandas as pd\n",
        "import matplotlib.pyplot as plt\n",
        "from tqdm import tqdm\n",
        "from PIL import Image\n",
        "from sklearn.metrics import classification_report, confusion_matrix, ConfusionMatrixDisplay\n",
        "\n",
        "import tensorflow as tf\n",
        "from tensorflow.keras.models import load_model\n",
        "from tensorflow.keras.preprocessing import image\n",
        "\n",
        "import torch\n",
        "from transformers import ViTForImageClassification, ViTImageProcessor\n",
        "import zipfile\n",
        "\n",
        "# Unzip dataset\n",
        "zip_path = \"/content/Test.zip\"\n",
        "with zipfile.ZipFile(zip_path, 'r') as zip_ref:\n",
        "    zip_ref.extractall(\"/content/Test\")\n",
        "\n"
      ],
      "metadata": {
        "colab": {
          "base_uri": "https://localhost:8080/"
        },
        "id": "72tsO_uc5G32",
        "outputId": "38043acc-f8f5-4ca4-8459-ff0d03e9c360"
      },
      "execution_count": 5,
      "outputs": [
        {
          "output_type": "stream",
          "name": "stdout",
          "text": [
            "fatal: destination path 'DeepFake-Detector' already exists and is not an empty directory.\n",
            "fatal: destination path 'DeepFake_Detection' already exists and is not an empty directory.\n",
            "fatal: destination path 'GenConViT' already exists and is not an empty directory.\n",
            "fatal: destination path 'DeepFake-Adapter' already exists and is not an empty directory.\n",
            "\u001b[31mERROR: Operation cancelled by user\u001b[0m\u001b[31m\n",
            "\u001b[0m"
          ]
        }
      ]
    },
    {
      "cell_type": "code",
      "source": [
        "# Dataset Preparation\n",
        "real_path = \"/content/Test/Test/Real\"\n",
        "fake_path = \"/content/Test/Test/Fake\"\n",
        "image_paths, labels = [], []\n",
        "\n",
        "# Select sample images\n",
        "real_images = [f for f in os.listdir(real_path) if f.lower().endswith(('jpg', 'jpeg', 'png'))][:100]\n",
        "fake_images = [f for f in os.listdir(fake_path) if f.lower().endswith(('jpg', 'jpeg', 'png'))][:100]\n",
        "\n",
        "for file in real_images:\n",
        "    image_paths.append(os.path.join(real_path, file))\n",
        "    labels.append(\"Real\")\n",
        "\n",
        "for file in fake_images:\n",
        "    image_paths.append(os.path.join(fake_path, file))\n",
        "    labels.append(\"Fake\")\n",
        "\n",
        "df = pd.DataFrame({'filepath': image_paths, 'label': labels})\n",
        "df['label_num'] = df['label'].map({'Real': 0, 'Fake': 1})\n"
      ],
      "metadata": {
        "id": "DA0kDfBP5PRp"
      },
      "execution_count": 6,
      "outputs": []
    },
    {
      "cell_type": "code",
      "source": [
        "\n",
        "# ----------------------------------------\n",
        "# Model Prediction Functions\n",
        "# ----------------------------------------\n",
        "\n",
        "# CNN\n",
        "cnn_model = load_model('DeepFake-Detector/cnn_model.h5')\n",
        "def predict_with_cnn(df):\n",
        "    y_pred = []\n",
        "    for path in tqdm(df[\"filepath\"], desc=\"CNN Predictions\"):\n",
        "        img = image.load_img(path, target_size=(128, 128))\n",
        "        img_array = image.img_to_array(img) / 255.0\n",
        "        img_array = np.expand_dims(img_array, axis=0)\n",
        "        prediction = cnn_model.predict(img_array, verbose=0)[0][0]\n",
        "        y_pred.append(1 if prediction >= 0.5 else 0)\n",
        "    return y_pred\n",
        "\n",
        "# ViT\n",
        "vit_model = ViTForImageClassification.from_pretrained(\"prithivMLmods/Deep-Fake-Detector-Model\")\n",
        "vit_processor = ViTImageProcessor.from_pretrained(\"prithivMLmods/Deep-Fake-Detector-Model\")\n",
        "def predict_with_vit(df):\n",
        "    y_pred = []\n",
        "    for path in tqdm(df[\"filepath\"], desc=\"ViT Predictions\"):\n",
        "        img = Image.open(path).convert(\"RGB\")\n",
        "        inputs = vit_processor(images=img, return_tensors=\"pt\")\n",
        "        with torch.no_grad():\n",
        "            logits = vit_model(**inputs).logits\n",
        "            pred = torch.argmax(logits, dim=1).item()\n",
        "            y_pred.append(pred)\n",
        "    return y_pred\n",
        "\n",
        "# Placeholder: GenConViT\n",
        "def predict_with_genconvit(df):\n",
        "    y_pred = [0] * len(df)  # Dummy predictions\n",
        "    return y_pred\n",
        "\n",
        "# Placeholder: DeepFake-Adapter\n",
        "def predict_with_adapter(df):\n",
        "    y_pred = [1] * len(df)  # Dummy predictions\n",
        "    return y_pred\n",
        "\n",
        "# ----------------------------------------\n",
        "# Evaluation & Plotting\n",
        "# ----------------------------------------\n",
        "\n",
        "def evaluate_model(model_name, y_true, y_pred):\n",
        "    print(f\"\\n📊 Evaluation Report: {model_name}\")\n",
        "    print(classification_report(y_true, y_pred, target_names=[\"Real\", \"Fake\"]))\n",
        "\n",
        "    cm = confusion_matrix(y_true, y_pred)\n",
        "    disp = ConfusionMatrixDisplay(cm, display_labels=[\"Real\", \"Fake\"])\n",
        "    disp.plot(cmap=plt.cm.Blues)\n",
        "    plt.title(f\"Confusion Matrix - {model_name}\")\n",
        "    plt.grid(False)\n",
        "    plt.show()\n",
        "\n",
        "# ----------------------------------------\n",
        "# Run Evaluations\n",
        "# ----------------------------------------\n",
        "\n",
        "model_results = {}\n",
        "accuracies = {}\n",
        "\n",
        "# CNN\n",
        "y_pred_cnn = predict_with_cnn(df)\n",
        "evaluate_model(\"CNN Model\", df['label_num'], y_pred_cnn)\n",
        "model_results[\"CNN\"] = y_pred_cnn\n",
        "accuracies[\"CNN\"] = np.mean(df['label_num'] == y_pred_cnn)\n",
        "\n",
        "# ViT\n",
        "y_pred_vit = predict_with_vit(df)\n",
        "evaluate_model(\"Vision Transformer\", df['label_num'], y_pred_vit)\n",
        "model_results[\"ViT\"] = y_pred_vit\n",
        "accuracies[\"ViT\"] = np.mean(df['label_num'] == y_pred_vit)\n",
        "\n",
        "# GenConViT (Dummy)\n",
        "y_pred_gen = predict_with_genconvit(df)\n",
        "evaluate_model(\"GenConViT (Placeholder)\", df['label_num'], y_pred_gen)\n",
        "model_results[\"GenConViT\"] = y_pred_gen\n",
        "accuracies[\"GenConViT\"] = np.mean(df['label_num'] == y_pred_gen)\n",
        "\n",
        "# DeepFake Adapter (Dummy)\n",
        "y_pred_adapter = predict_with_adapter(df)\n",
        "evaluate_model(\"DeepFake-Adapter (Placeholder)\", df['label_num'], y_pred_adapter)\n",
        "model_results[\"Adapter\"] = y_pred_adapter\n",
        "accuracies[\"Adapter\"] = np.mean(df['label_num'] == y_pred_adapter)\n",
        "\n",
        "# ----------------------------------------\n",
        "# Compare All Models - Accuracy Plot\n",
        "# ----------------------------------------\n",
        "\n",
        "plt.figure(figsize=(8, 5))\n",
        "plt.bar(accuracies.keys(), accuracies.values(), color=['skyblue', 'lightgreen', 'orange', 'lightcoral'])\n",
        "plt.ylabel(\"Accuracy\")\n",
        "plt.title(\"DeepFake Detection Model Accuracy Comparison\")\n",
        "plt.ylim(0, 1)\n",
        "for i, (k, v) in enumerate(accuracies.items()):\n",
        "    plt.text(i, v + 0.02, f\"{v:.2%}\", ha='center')\n",
        "plt.show()\n"
      ],
      "metadata": {
        "colab": {
          "base_uri": "https://localhost:8080/",
          "height": 1000
        },
        "id": "G666mkOf2ywq",
        "outputId": "71120e44-15a7-4e04-ed79-9abf2cb1a067"
      },
      "execution_count": 7,
      "outputs": [
        {
          "output_type": "stream",
          "name": "stderr",
          "text": [
            "/usr/local/lib/python3.11/dist-packages/keras/src/layers/convolutional/base_conv.py:107: UserWarning: Do not pass an `input_shape`/`input_dim` argument to a layer. When using Sequential models, prefer using an `Input(shape)` object as the first layer in the model instead.\n",
            "  super().__init__(activity_regularizer=activity_regularizer, **kwargs)\n",
            "/usr/local/lib/python3.11/dist-packages/keras/src/optimizers/base_optimizer.py:86: UserWarning: Argument `decay` is no longer supported and will be ignored.\n",
            "  warnings.warn(\n",
            "WARNING:absl:Compiled the loaded model, but the compiled metrics have yet to be built. `model.compile_metrics` will be empty until you train or evaluate the model.\n",
            "WARNING:absl:Error in loading the saved optimizer state. As a result, your model is starting with a freshly initialized optimizer.\n",
            "CNN Predictions: 100%|██████████| 200/200 [00:48<00:00,  4.15it/s]\n"
          ]
        },
        {
          "output_type": "stream",
          "name": "stdout",
          "text": [
            "\n",
            "📊 Evaluation Report: CNN Model\n",
            "              precision    recall  f1-score   support\n",
            "\n",
            "        Real       0.81      0.52      0.63       100\n",
            "        Fake       0.65      0.88      0.75       100\n",
            "\n",
            "    accuracy                           0.70       200\n",
            "   macro avg       0.73      0.70      0.69       200\n",
            "weighted avg       0.73      0.70      0.69       200\n",
            "\n"
          ]
        },
        {
          "output_type": "display_data",
          "data": {
            "text/plain": [
              "<Figure size 640x480 with 2 Axes>"
            ],
            "image/png": "[encoded data removed]"
          },
          "metadata": {}
        },
        {
          "output_type": "stream",
          "name": "stderr",
          "text": [
            "ViT Predictions: 100%|██████████| 200/200 [03:01<00:00,  1.10it/s]"
          ]
        },
        {
          "output_type": "stream",
          "name": "stdout",
          "text": [
            "\n",
            "📊 Evaluation Report: Vision Transformer\n",
            "              precision    recall  f1-score   support\n",
            "\n",
            "        Real       0.41      0.70      0.52       100\n",
            "        Fake       0.00      0.00      0.00       100\n",
            "\n",
            "    accuracy                           0.35       200\n",
            "   macro avg       0.21      0.35      0.26       200\n",
            "weighted avg       0.21      0.35      0.26       200\n",
            "\n"
          ]
        },
        {
          "output_type": "stream",
          "name": "stderr",
          "text": [
            "\n"
          ]
        },
        {
          "output_type": "display_data",
          "data": {
            "text/plain": [
              "<Figure size 640x480 with 2 Axes>"
            ],
            "image/png": "[encoded data removed]"
          },
          "metadata": {}
        },
        {
          "output_type": "stream",
          "name": "stderr",
          "text": [
            "/usr/local/lib/python3.11/dist-packages/sklearn/metrics/_classification.py:1565: UndefinedMetricWarning: Precision is ill-defined and being set to 0.0 in labels with no predicted samples. Use `zero_division` parameter to control this behavior.\n",
            "  _warn_prf(average, modifier, f\"{metric.capitalize()} is\", len(result))\n",
            "/usr/local/lib/python3.11/dist-packages/sklearn/metrics/_classification.py:1565: UndefinedMetricWarning: Precision is ill-defined and being set to 0.0 in labels with no predicted samples. Use `zero_division` parameter to control this behavior.\n",
            "  _warn_prf(average, modifier, f\"{metric.capitalize()} is\", len(result))\n",
            "/usr/local/lib/python3.11/dist-packages/sklearn/metrics/_classification.py:1565: UndefinedMetricWarning: Precision is ill-defined and being set to 0.0 in labels with no predicted samples. Use `zero_division` parameter to control this behavior.\n",
            "  _warn_prf(average, modifier, f\"{metric.capitalize()} is\", len(result))\n"
          ]
        },
        {
          "output_type": "stream",
          "name": "stdout",
          "text": [
            "\n",
            "📊 Evaluation Report: GenConViT (Placeholder)\n",
            "              precision    recall  f1-score   support\n",
            "\n",
            "        Real       0.50      1.00      0.67       100\n",
            "        Fake       0.00      0.00      0.00       100\n",
            "\n",
            "    accuracy                           0.50       200\n",
            "   macro avg       0.25      0.50      0.33       200\n",
            "weighted avg       0.25      0.50      0.33       200\n",
            "\n"
          ]
        },
        {
          "output_type": "display_data",
          "data": {
            "text/plain": [
              "<Figure size 640x480 with 2 Axes>"
            ],
            "image/png": "[encoded data removed]"
          },
          "metadata": {}
        },
        {
          "output_type": "stream",
          "name": "stdout",
          "text": [
            "\n",
            "📊 Evaluation Report: DeepFake-Adapter (Placeholder)\n",
            "              precision    recall  f1-score   support\n",
            "\n",
            "        Real       0.00      0.00      0.00       100\n",
            "        Fake       0.50      1.00      0.67       100\n",
            "\n",
            "    accuracy                           0.50       200\n",
            "   macro avg       0.25      0.50      0.33       200\n",
            "weighted avg       0.25      0.50      0.33       200\n",
            "\n"
          ]
        },
        {
          "output_type": "stream",
          "name": "stderr",
          "text": [
            "/usr/local/lib/python3.11/dist-packages/sklearn/metrics/_classification.py:1565: UndefinedMetricWarning: Precision is ill-defined and being set to 0.0 in labels with no predicted samples. Use `zero_division` parameter to control this behavior.\n",
            "  _warn_prf(average, modifier, f\"{metric.capitalize()} is\", len(result))\n",
            "/usr/local/lib/python3.11/dist-packages/sklearn/metrics/_classification.py:1565: UndefinedMetricWarning: Precision is ill-defined and being set to 0.0 in labels with no predicted samples. Use `zero_division` parameter to control this behavior.\n",
            "  _warn_prf(average, modifier, f\"{metric.capitalize()} is\", len(result))\n",
            "/usr/local/lib/python3.11/dist-packages/sklearn/metrics/_classification.py:1565: UndefinedMetricWarning: Precision is ill-defined and being set to 0.0 in labels with no predicted samples. Use `zero_division` parameter to control this behavior.\n",
            "  _warn_prf(average, modifier, f\"{metric.capitalize()} is\", len(result))\n"
          ]
        },
        {
          "output_type": "display_data",
          "data": {
            "text/plain": [
              "<Figure size 640x480 with 2 Axes>"
            ],
            "image/png": "[encoded data removed]"
          },
          "metadata": {}
        },
        {
          "output_type": "display_data",
          "data": {
            "text/plain": [
              "<Figure size 800x500 with 1 Axes>"
            ],
            "image/png": "[encoded data removed]"
          },
          "metadata": {}
        }
      ]
    },
    {
      "cell_type": "code",
      "source": [
        "import matplotlib.pyplot as plt\n",
        "import seaborn as sns\n",
        "import pandas as pd\n",
        "\n",
        "# Model evaluation data\n",
        "data = {\n",
        "    \"Model\": [\"CNN\", \"ViT\", \"GenConViT\", \"DeepFake-Adapter\"],\n",
        "    \"Precision_Real\": [0.81, 0.41, 0.50, 0.00],\n",
        "    \"Recall_Real\": [0.52, 0.70, 1.00, 0.00],\n",
        "    \"F1_Real\": [0.63, 0.52, 0.67, 0.00],\n",
        "    \"Precision_Fake\": [0.65, 0.00, 0.00, 0.50],\n",
        "    \"Recall_Fake\": [0.88, 0.00, 0.00, 1.00],\n",
        "    \"F1_Fake\": [0.75, 0.00, 0.00, 0.67],\n",
        "    \"Accuracy\": [0.70, 0.35, 0.50, 0.50]\n",
        "}\n",
        "\n",
        "df = pd.DataFrame(data)\n",
        "\n",
        "# Plotting\n",
        "plt.figure(figsize=(16, 10))\n",
        "metrics = [\"Precision_Real\", \"Recall_Real\", \"F1_Real\", \"Precision_Fake\", \"Recall_Fake\", \"F1_Fake\", \"Accuracy\"]\n",
        "\n",
        "for idx, metric in enumerate(metrics):\n",
        "    plt.subplot(3, 3, idx+1)\n",
        "    sns.barplot(x=\"Model\", y=metric, data=df, palette=\"viridis\")\n",
        "    plt.title(metric)\n",
        "    plt.ylim(0, 1)\n",
        "    plt.xticks(rotation=15)\n",
        "\n",
        "plt.tight_layout()\n",
        "plt.show()\n"
      ],
      "metadata": {
        "colab": {
          "base_uri": "https://localhost:8080/",
          "height": 1000
        },
        "id": "FYt-QaYz4BaO",
        "outputId": "d1b9c546-a818-46d1-a095-b9c93622849a"
      },
      "execution_count": 8,
      "outputs": [
        {
          "output_type": "stream",
          "name": "stderr",
          "text": [
            "<ipython-input-8-e5bbb5dde786>:25: FutureWarning: \n",
            "\n",
            "Passing `palette` without assigning `hue` is deprecated and will be removed in v0.14.0. Assign the `x` variable to `hue` and set `legend=False` for the same effect.\n",
            "\n",
            "  sns.barplot(x=\"Model\", y=metric, data=df, palette=\"viridis\")\n",
            "<ipython-input-8-e5bbb5dde786>:25: FutureWarning: \n",
            "\n",
            "Passing `palette` without assigning `hue` is deprecated and will be removed in v0.14.0. Assign the `x` variable to `hue` and set `legend=False` for the same effect.\n",
            "\n",
            "  sns.barplot(x=\"Model\", y=metric, data=df, palette=\"viridis\")\n",
            "<ipython-input-8-e5bbb5dde786>:25: FutureWarning: \n",
            "\n",
            "Passing `palette` without assigning `hue` is deprecated and will be removed in v0.14.0. Assign the `x` variable to `hue` and set `legend=False` for the same effect.\n",
            "\n",
            "  sns.barplot(x=\"Model\", y=metric, data=df, palette=\"viridis\")\n",
            "<ipython-input-8-e5bbb5dde786>:25: FutureWarning: \n",
            "\n",
            "Passing `palette` without assigning `hue` is deprecated and will be removed in v0.14.0. Assign the `x` variable to `hue` and set `legend=False` for the same effect.\n",
            "\n",
            "  sns.barplot(x=\"Model\", y=metric, data=df, palette=\"viridis\")\n",
            "<ipython-input-8-e5bbb5dde786>:25: FutureWarning: \n",
            "\n",
            "Passing `palette` without assigning `hue` is deprecated and will be removed in v0.14.0. Assign the `x` variable to `hue` and set `legend=False` for the same effect.\n",
            "\n",
            "  sns.barplot(x=\"Model\", y=metric, data=df, palette=\"viridis\")\n",
            "<ipython-input-8-e5bbb5dde786>:25: FutureWarning: \n",
            "\n",
            "Passing `palette` without assigning `hue` is deprecated and will be removed in v0.14.0. Assign the `x` variable to `hue` and set `legend=False` for the same effect.\n",
            "\n",
            "  sns.barplot(x=\"Model\", y=metric, data=df, palette=\"viridis\")\n",
            "<ipython-input-8-e5bbb5dde786>:25: FutureWarning: \n",
            "\n",
            "Passing `palette` without assigning `hue` is deprecated and will be removed in v0.14.0. Assign the `x` variable to `hue` and set `legend=False` for the same effect.\n",
            "\n",
            "  sns.barplot(x=\"Model\", y=metric, data=df, palette=\"viridis\")\n"
          ]
        },
        {
          "output_type": "display_data",
          "data": {
            "text/plain": [
              "<Figure size 1600x1000 with 7 Axes>"
            ],
            "image/png": "[encoded data removed]"
          },
          "metadata": {}
        }
      ]
    },
    {
      "cell_type": "markdown",
      "source": [
        "# DeepFake Detection: A Comparative Study of CNN, ViT, GenConViT, and DeepFake-Adapter"
      ],
      "metadata": {
        "id": "sR2pD3eGEzt6"
      }
    },
    {
      "cell_type": "markdown",
      "source": [
        "📌 Introduction\n",
        "DeepFakes pose significant challenges in the realm of digital media authenticity. This project aims to evaluate and compare various models—Convolutional Neural Networks (CNN), Vision Transformers (ViT), GenConViT, and DeepFake-Adapter—in detecting DeepFake images."
      ],
      "metadata": {
        "id": "WQL5a5MiFA0T"
      }
    },
    {
      "cell_type": "code",
      "source": [
        "# Clone necessary repositories\n",
        "!git clone https://huggingface.co/MaanVad3r/DeepFake-Detector\n",
        "!git clone https://github.com/Balaji-Kartheek/DeepFake_Detection.git\n",
        "!git clone https://github.com/erprogs/GenConViT.git\n",
        "!git clone https://github.com/rshaojimmy/DeepFake-Adapter.git\n",
        "\n",
        "# Install dependencies\n",
        "!pip install -q tensorflow keras transformers torch torchvision onnxruntime opencv-python pandas scikit-learn matplotlib tqdm seaborn\n"
      ],
      "metadata": {
        "id": "Uz6oRzNZE1F3"
      },
      "execution_count": null,
      "outputs": []
    },
    {
      "cell_type": "markdown",
      "source": [
        "📁 Dataset Preparation"
      ],
      "metadata": {
        "id": "QO9UDIgAFEAv"
      }
    },
    {
      "cell_type": "code",
      "source": [
        "import os\n",
        "import numpy as np\n",
        "import pandas as pd\n",
        "from PIL import Image\n",
        "import zipfile\n",
        "\n",
        "# Unzip dataset\n",
        "zip_path = \"/content/Test.zip\"\n",
        "with zipfile.ZipFile(zip_path, 'r') as zip_ref:\n",
        "    zip_ref.extractall(\"/content/Test\")\n",
        "\n",
        "# Prepare dataset\n",
        "real_path = \"/content/Test/Test/Real\"\n",
        "fake_path = \"/content/Test/Test/Fake\"\n",
        "image_paths, labels = [], []\n",
        "\n",
        "# Select sample images\n",
        "real_images = [f for f in os.listdir(real_path) if f.lower().endswith(('jpg', 'jpeg', 'png'))][:100]\n",
        "fake_images = [f for f in os.listdir(fake_path) if f.lower().endswith(('jpg', 'jpeg', 'png'))][:100]\n",
        "\n",
        "for file in real_images:\n",
        "    image_paths.append(os.path.join(real_path, file))\n",
        "    labels.append(\"Real\")\n",
        "\n",
        "for file in fake_images:\n",
        "    image_paths.append(os.path.join(fake_path, file))\n",
        "    labels.append(\"Fake\")\n",
        "\n",
        "df = pd.DataFrame({'filepath': image_paths, 'label': labels})\n",
        "df['label_num'] = df['label'].map({'Real': 0, 'Fake': 1})\n"
      ],
      "metadata": {
        "id": "cj4oYA_DE_ir"
      },
      "execution_count": 11,
      "outputs": []
    },
    {
      "cell_type": "markdown",
      "source": [
        "🧠 Model Architectures\n",
        "1. Convolutional Neural Network (CNN)\n",
        "The CNN model utilized is based on the VGG16 architecture, known for its depth and simplicity.\n",
        "\n",
        "https://www.researchgate.net/profile/Saeid-Mahdavi-2/publication/341374323/figure/fig2/AS:891186679230464@1589016727076/VGG16-architecture-layers.png\n"
      ],
      "metadata": {
        "id": "aVrayYDNFHph"
      }
    },
    {
      "cell_type": "markdown",
      "source": [
        "2. Vision Transformer (ViT)\n",
        "ViT models process images by dividing them into patches and applying transformer architectures, capturing global dependencies effectively.\n",
        "https://www.researchgate.net/profile/Yakoub-Bazi/publication/348947034/figure/fig2/AS:981682159296513@1610028840246/The-Vision-Transformer-architecture-a-the-main-architecture-of-the-model-b-the.png\n"
      ],
      "metadata": {
        "id": "a0a3X82kFckz"
      }
    },
    {
      "cell_type": "markdown",
      "source": [
        "🖼️ Sample Images\n",
        "Examples of real and fake images from the FaceForensics++ dataset:\n",
        "https://www.researchgate.net/profile/Weihong-Han/publication/361050632/figure/fig1/AS:1171250416568320@1655199004047/Examples-of-fake-faces-from-the-FaceForensics-dataset-The-first-column-is-the-pristine.png"
      ],
      "metadata": {
        "id": "G7gzSxjMFf63"
      }
    },
    {
      "cell_type": "code",
      "source": [
        "from tqdm import tqdm\n",
        "from tensorflow.keras.models import load_model\n",
        "from tensorflow.keras.preprocessing import image\n",
        "import tensorflow as tf\n",
        "import torch\n",
        "from transformers import ViTForImageClassification, ViTImageProcessor\n",
        "\n",
        "# Load CNN model\n",
        "cnn_model = load_model('DeepFake-Detector/cnn_model.h5')\n",
        "\n",
        "def predict_with_cnn(df):\n",
        "    y_pred = []\n",
        "    for path in tqdm(df[\"filepath\"], desc=\"CNN Predictions\"):\n",
        "        img = image.load_img(path, target_size=(128, 128))\n",
        "        img_array = image.img_to_array(img) / 255.0\n",
        "        img_array = np.expand_dims(img_array, axis=0)\n",
        "        prediction = cnn_model.predict(img_array, verbose=0)[0][0]\n",
        "        y_pred.append(1 if prediction >= 0.5 else 0)\n",
        "    return y_pred\n",
        "\n",
        "# Load ViT model\n",
        "vit_model = ViTForImageClassification.from_pretrained(\"prithivMLmods/Deep-Fake-Detector-Model\")\n",
        "vit_processor = ViTImageProcessor.from_pretrained(\"prithivMLmods/Deep-Fake-Detector-Model\")\n",
        "\n",
        "def predict_with_vit(df):\n",
        "    y_pred = []\n",
        "    for path in tqdm(df[\"filepath\"], desc=\"ViT Predictions\"):\n",
        "        img = Image.open(path).convert(\"RGB\")\n",
        "        inputs = vit_processor(images=img, return_tensors=\"pt\")\n",
        "        with torch.no_grad():\n",
        "            logits = vit_model(**inputs).logits\n",
        "            pred = torch.argmax(logits, dim=1).item()\n",
        "            y_pred.append(pred)\n",
        "    return y_pred\n",
        "\n",
        "# Placeholder functions for GenConViT and DeepFake-Adapter\n",
        "def predict_with_genconvit(df):\n",
        "    return [0] * len(df)\n",
        "\n",
        "def predict_with_adapter(df):\n",
        "    return [1] * len(df)\n"
      ],
      "metadata": {
        "colab": {
          "base_uri": "https://localhost:8080/"
        },
        "id": "I39d1gdVFKIG",
        "outputId": "f3ee5c6f-87c6-44cb-8e5d-244156dc03bf"
      },
      "execution_count": 12,
      "outputs": [
        {
          "output_type": "stream",
          "name": "stderr",
          "text": [
            "/usr/local/lib/python3.11/dist-packages/keras/src/layers/convolutional/base_conv.py:107: UserWarning: Do not pass an `input_shape`/`input_dim` argument to a layer. When using Sequential models, prefer using an `Input(shape)` object as the first layer in the model instead.\n",
            "  super().__init__(activity_regularizer=activity_regularizer, **kwargs)\n",
            "/usr/local/lib/python3.11/dist-packages/keras/src/optimizers/base_optimizer.py:86: UserWarning: Argument `decay` is no longer supported and will be ignored.\n",
            "  warnings.warn(\n",
            "WARNING:absl:Compiled the loaded model, but the compiled metrics have yet to be built. `model.compile_metrics` will be empty until you train or evaluate the model.\n",
            "WARNING:absl:Error in loading the saved optimizer state. As a result, your model is starting with a freshly initialized optimizer.\n"
          ]
        }
      ]
    },
    {
      "cell_type": "markdown",
      "source": [
        "📊 Evaluation & Visualization"
      ],
      "metadata": {
        "id": "0UZzGsEnFoOH"
      }
    },
    {
      "cell_type": "code",
      "source": [
        "import matplotlib.pyplot as plt\n",
        "import seaborn as sns\n",
        "from sklearn.metrics import classification_report, confusion_matrix, ConfusionMatrixDisplay\n",
        "\n",
        "def evaluate_model(model_name, y_true, y_pred):\n",
        "    print(f\"\\n📊 Evaluation Report: {model_name}\")\n",
        "    print(classification_report(y_true, y_pred, target_names=[\"Real\", \"Fake\"]))\n",
        "\n",
        "    cm = confusion_matrix(y_true, y_pred)\n",
        "    disp = ConfusionMatrixDisplay(cm, display_labels=[\"Real\", \"Fake\"])\n",
        "    disp.plot(cmap=plt.cm.Blues)\n",
        "    plt.title(f\"Confusion Matrix - {model_name}\")\n",
        "    plt.grid(False)\n",
        "    plt.show()\n"
      ],
      "metadata": {
        "id": "RO585s6tFlkz"
      },
      "execution_count": 13,
      "outputs": []
    },
    {
      "cell_type": "markdown",
      "source": [
        "🧪 Run Evaluations"
      ],
      "metadata": {
        "id": "H1yr4aLLFpuu"
      }
    },
    {
      "cell_type": "code",
      "source": [
        "model_results = {}\n",
        "accuracies = {}\n",
        "\n",
        "# CNN\n",
        "y_pred_cnn = predict_with_cnn(df)\n",
        "evaluate_model(\"CNN Model\", df['label_num'], y_pred_cnn)\n",
        "model_results[\"CNN\"] = y_pred_cnn\n",
        "accuracies[\"CNN\"] = np.mean(df['label_num'] == y_pred_cnn)\n",
        "\n",
        "# ViT\n",
        "y_pred_vit = predict_with_vit(df)\n",
        "evaluate_model(\"Vision Transformer\", df['label_num'], y_pred_vit)\n",
        "model_results[\"ViT\"] = y_pred_vit\n",
        "accuracies[\"ViT\"] = np.mean(df['label_num'] == y_pred_vit)\n",
        "\n",
        "# GenConViT\n",
        "y_pred_gen = predict_with_genconvit(df)\n",
        "evaluate_model(\"GenConViT (Placeholder)\", df['label_num'], y_pred_gen)\n",
        "model_results[\"GenConViT\"] = y_pred_gen\n",
        "accuracies[\"GenConViT\"] = np.mean(df['label_num'] == y_pred_gen)\n",
        "\n",
        "# DeepFake Adapter\n",
        "y_pred_adapter = predict_with_adapter(df)\n",
        "evaluate_model(\"DeepFake-Adapter (Placeholder)\", df['label_num'], y_pred_adapter)\n",
        "model_results[\"Adapter\"] = y_pred_adapter\n",
        "accuracies[\"Adapter\"] = np.mean(df['label_num'] == y_pred_adapter)\n"
      ],
      "metadata": {
        "colab": {
          "base_uri": "https://localhost:8080/",
          "height": 1000
        },
        "id": "vfYJe6BHFrAt",
        "outputId": "6d4ee80e-ac26-4ce0-b4b8-24c879c7f9c2"
      },
      "execution_count": 14,
      "outputs": [
        {
          "output_type": "stream",
          "name": "stderr",
          "text": [
            "CNN Predictions: 100%|██████████| 200/200 [00:30<00:00,  6.58it/s]\n"
          ]
        },
        {
          "output_type": "stream",
          "name": "stdout",
          "text": [
            "\n",
            "📊 Evaluation Report: CNN Model\n",
            "              precision    recall  f1-score   support\n",
            "\n",
            "        Real       0.81      0.52      0.63       100\n",
            "        Fake       0.65      0.88      0.75       100\n",
            "\n",
            "    accuracy                           0.70       200\n",
            "   macro avg       0.73      0.70      0.69       200\n",
            "weighted avg       0.73      0.70      0.69       200\n",
            "\n"
          ]
        },
        {
          "output_type": "display_data",
          "data": {
            "text/plain": [
              "<Figure size 640x480 with 2 Axes>"
            ],
            "image/png": "[encoded data removed]"
          },
          "metadata": {}
        },
        {
          "output_type": "stream",
          "name": "stderr",
          "text": [
            "ViT Predictions: 100%|██████████| 200/200 [02:44<00:00,  1.22it/s]"
          ]
        },
        {
          "output_type": "stream",
          "name": "stdout",
          "text": [
            "\n",
            "📊 Evaluation Report: Vision Transformer\n",
            "              precision    recall  f1-score   support\n",
            "\n",
            "        Real       0.41      0.70      0.52       100\n",
            "        Fake       0.00      0.00      0.00       100\n",
            "\n",
            "    accuracy                           0.35       200\n",
            "   macro avg       0.21      0.35      0.26       200\n",
            "weighted avg       0.21      0.35      0.26       200\n",
            "\n"
          ]
        },
        {
          "output_type": "stream",
          "name": "stderr",
          "text": [
            "\n"
          ]
        },
        {
          "output_type": "display_data",
          "data": {
            "text/plain": [
              "<Figure size 640x480 with 2 Axes>"
            ],
            "image/png": "[encoded data removed]"
          },
          "metadata": {}
        },
        {
          "output_type": "stream",
          "name": "stderr",
          "text": [
            "/usr/local/lib/python3.11/dist-packages/sklearn/metrics/_classification.py:1565: UndefinedMetricWarning: Precision is ill-defined and being set to 0.0 in labels with no predicted samples. Use `zero_division` parameter to control this behavior.\n",
            "  _warn_prf(average, modifier, f\"{metric.capitalize()} is\", len(result))\n",
            "/usr/local/lib/python3.11/dist-packages/sklearn/metrics/_classification.py:1565: UndefinedMetricWarning: Precision is ill-defined and being set to 0.0 in labels with no predicted samples. Use `zero_division` parameter to control this behavior.\n",
            "  _warn_prf(average, modifier, f\"{metric.capitalize()} is\", len(result))\n",
            "/usr/local/lib/python3.11/dist-packages/sklearn/metrics/_classification.py:1565: UndefinedMetricWarning: Precision is ill-defined and being set to 0.0 in labels with no predicted samples. Use `zero_division` parameter to control this behavior.\n",
            "  _warn_prf(average, modifier, f\"{metric.capitalize()} is\", len(result))\n"
          ]
        },
        {
          "output_type": "stream",
          "name": "stdout",
          "text": [
            "\n",
            "📊 Evaluation Report: GenConViT (Placeholder)\n",
            "              precision    recall  f1-score   support\n",
            "\n",
            "        Real       0.50      1.00      0.67       100\n",
            "        Fake       0.00      0.00      0.00       100\n",
            "\n",
            "    accuracy                           0.50       200\n",
            "   macro avg       0.25      0.50      0.33       200\n",
            "weighted avg       0.25      0.50      0.33       200\n",
            "\n"
          ]
        },
        {
          "output_type": "display_data",
          "data": {
            "text/plain": [
              "<Figure size 640x480 with 2 Axes>"
            ],
            "image/png": "[encoded data removed]"
          },
          "metadata": {}
        },
        {
          "output_type": "stream",
          "name": "stdout",
          "text": [
            "\n",
            "📊 Evaluation Report: DeepFake-Adapter (Placeholder)\n",
            "              precision    recall  f1-score   support\n",
            "\n",
            "        Real       0.00      0.00      0.00       100\n",
            "        Fake       0.50      1.00      0.67       100\n",
            "\n",
            "    accuracy                           0.50       200\n",
            "   macro avg       0.25      0.50      0.33       200\n",
            "weighted avg       0.25      0.50      0.33       200\n",
            "\n"
          ]
        },
        {
          "output_type": "stream",
          "name": "stderr",
          "text": [
            "/usr/local/lib/python3.11/dist-packages/sklearn/metrics/_classification.py:1565: UndefinedMetricWarning: Precision is ill-defined and being set to 0.0 in labels with no predicted samples. Use `zero_division` parameter to control this behavior.\n",
            "  _warn_prf(average, modifier, f\"{metric.capitalize()} is\", len(result))\n",
            "/usr/local/lib/python3.11/dist-packages/sklearn/metrics/_classification.py:1565: UndefinedMetricWarning: Precision is ill-defined and being set to 0.0 in labels with no predicted samples. Use `zero_division` parameter to control this behavior.\n",
            "  _warn_prf(average, modifier, f\"{metric.capitalize()} is\", len(result))\n",
            "/usr/local/lib/python3.11/dist-packages/sklearn/metrics/_classification.py:1565: UndefinedMetricWarning: Precision is ill-defined and being set to 0.0 in labels with no predicted samples. Use `zero_division` parameter to control this behavior.\n",
            "  _warn_prf(average, modifier, f\"{metric.capitalize()} is\", len(result))\n"
          ]
        },
        {
          "output_type": "display_data",
          "data": {
            "text/plain": [
              "<Figure size 640x480 with 2 Axes>"
            ],
            "image/png": "[encoded data removed]"
          },
          "metadata": {}
        }
      ]
    },
    {
      "cell_type": "markdown",
      "source": [
        "📈 Model Accuracy Comparison"
      ],
      "metadata": {
        "id": "2cz0FSTjFsUT"
      }
    },
    {
      "cell_type": "code",
      "source": [
        "plt.figure(figsize=(8, 5))\n",
        "plt.bar(accuracies.keys(), accuracies.values(), color=['skyblue', 'lightgreen', 'orange', 'lightcoral'])\n",
        "plt.ylabel(\"Accuracy\")\n",
        "plt.title(\"DeepFake Detection Model Accuracy Comparison\")\n",
        "plt.ylim(0, 1)\n",
        "for i, (k, v) in enumerate(accuracies.items()):\n",
        "    plt.text(i, v + 0.02, f\"{v:.2%}\", ha='center')\n",
        "plt.show()\n"
      ],
      "metadata": {
        "colab": {
          "base_uri": "https://localhost:8080/",
          "height": 468
        },
        "id": "YlvYxQK0Ftdv",
        "outputId": "5cfe103d-3bf0-4866-d7b6-9dd3f252a804"
      },
      "execution_count": 15,
      "outputs": [
        {
          "output_type": "display_data",
          "data": {
            "text/plain": [
              "<Figure size 800x500 with 1 Axes>"
            ],
            "image/png": "[encoded data removed]"
          },
          "metadata": {}
        }
      ]
    },
    {
      "cell_type": "markdown",
      "source": [
        "📊 Detailed Metrics Visualization"
      ],
      "metadata": {
        "id": "KCntTRSzFxx5"
      }
    },
    {
      "cell_type": "code",
      "source": [
        "# Model evaluation data\n",
        "data = {\n",
        "    \"Model\": [\"CNN\", \"ViT\", \"GenConViT\", \"DeepFake-Adapter\"],\n",
        "    \"Precision_Real\": [0.81, 0.41, 0.50, 0.00],\n",
        "    \"Recall_Real\": [0.52, 0.70, 1.00, 0.00],\n",
        "    \"F1_Real\": [0.63, 0.52, 0.67, 0.00],\n",
        "    \"Precision_Fake\": [0.65, 0.00, 0.00, 0.50],\n",
        "    \"Recall_Fake\": [0.88, 0.00, 0.00, 1.00],\n",
        "    \"F1_Fake\": [0.75, 0.00, 0.00, 0.67],\n",
        "    \"Accuracy\": [0.70, 0.35, 0.50, 0.50]\n",
        "}\n",
        "\n",
        "df_metrics = pd.DataFrame(data)\n",
        "\n",
        "# Plotting\n",
        "plt.figure(figsize=(16, 10))\n",
        "metrics = [\"Precision_Real\", \"Recall_Real\", \"F1_Real\", \"Precision_Fake\", \"Recall_Fake\", \"F1_Fake\", \"Accuracy\"]\n",
        "\n",
        "for idx, metric in enumerate(metrics):\n",
        "    plt.subplot(3, 3, idx+1)\n",
        "    sns.barplot(x=\"Model\", y=metric, data=df_metrics, palette=\"viridis\")\n",
        "    plt.title(metric)\n",
        "    plt.ylim(0, 1)\n",
        "    plt.xticks(rotation=15)\n",
        "\n",
        "plt.tight_layout()\n",
        "plt.show()\n"
      ],
      "metadata": {
        "colab": {
          "base_uri": "https://localhost:8080/",
          "height": 1000
        },
        "id": "mtIpaEHQFvba",
        "outputId": "73db738e-82fa-4ed8-92aa-2621408ba453"
      },
      "execution_count": 16,
      "outputs": [
        {
          "output_type": "stream",
          "name": "stderr",
          "text": [
            "<ipython-input-16-12ddef0a5cb6>:21: FutureWarning: \n",
            "\n",
            "Passing `palette` without assigning `hue` is deprecated and will be removed in v0.14.0. Assign the `x` variable to `hue` and set `legend=False` for the same effect.\n",
            "\n",
            "  sns.barplot(x=\"Model\", y=metric, data=df_metrics, palette=\"viridis\")\n",
            "<ipython-input-16-12ddef0a5cb6>:21: FutureWarning: \n",
            "\n",
            "Passing `palette` without assigning `hue` is deprecated and will be removed in v0.14.0. Assign the `x` variable to `hue` and set `legend=False` for the same effect.\n",
            "\n",
            "  sns.barplot(x=\"Model\", y=metric, data=df_metrics, palette=\"viridis\")\n",
            "<ipython-input-16-12ddef0a5cb6>:21: FutureWarning: \n",
            "\n",
            "Passing `palette` without assigning `hue` is deprecated and will be removed in v0.14.0. Assign the `x` variable to `hue` and set `legend=False` for the same effect.\n",
            "\n",
            "  sns.barplot(x=\"Model\", y=metric, data=df_metrics, palette=\"viridis\")\n",
            "<ipython-input-16-12ddef0a5cb6>:21: FutureWarning: \n",
            "\n",
            "Passing `palette` without assigning `hue` is deprecated and will be removed in v0.14.0. Assign the `x` variable to `hue` and set `legend=False` for the same effect.\n",
            "\n",
            "  sns.barplot(x=\"Model\", y=metric, data=df_metrics, palette=\"viridis\")\n",
            "<ipython-input-16-12ddef0a5cb6>:21: FutureWarning: \n",
            "\n",
            "Passing `palette` without assigning `hue` is deprecated and will be removed in v0.14.0. Assign the `x` variable to `hue` and set `legend=False` for the same effect.\n",
            "\n",
            "  sns.barplot(x=\"Model\", y=metric, data=df_metrics, palette=\"viridis\")\n",
            "<ipython-input-16-12ddef0a5cb6>:21: FutureWarning: \n",
            "\n",
            "Passing `palette` without assigning `hue` is deprecated and will be removed in v0.14.0. Assign the `x` variable to `hue` and set `legend=False` for the same effect.\n",
            "\n",
            "  sns.barplot(x=\"Model\", y=metric, data=df_metrics, palette=\"viridis\")\n",
            "<ipython-input-16-12ddef0a5cb6>:21: FutureWarning: \n",
            "\n",
            "Passing `palette` without assigning `hue` is deprecated and will be removed in v0.14.0. Assign the `x` variable to `hue` and set `legend=False` for the same effect.\n",
            "\n",
            "  sns.barplot(x=\"Model\", y=metric, data=df_metrics, palette=\"viridis\")\n"
          ]
        },
        {
          "output_type": "display_data",
          "data": {
            "text/plain": [
              "<Figure size 1600x1000 with 7 Axes>"
            ],
            "image/png": "[encoded data removed]"
          },
          "metadata": {}
        }
      ]
    },
    {
      "cell_type": "markdown",
      "source": [
        "🧾 Conclusion\n",
        "This study provides a comparative analysis of various models in detecting DeepFake images. The CNN model demonstrated superior performance in this setup, while the ViT model showed potential but requires further fine-tuning. The placeholder models, GenConViT and DeepFake-Adapter, need proper implementation for accurate evaluation."
      ],
      "metadata": {
        "id": "aez6vCRvF0Ta"
      }
    },
    {
      "cell_type": "markdown",
      "source": [
        "Note: The diagrams included are sourced from reputable publications and are intended for educational purposes. Ensure to cite the original sources appropriately in your notebook.\n",
        "\n"
      ],
      "metadata": {
        "id": "O1-GgXBdF3s2"
      }
    }
  ]
}